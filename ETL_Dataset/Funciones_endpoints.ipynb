{
 "cells": [
  {
   "cell_type": "code",
   "execution_count": 2,
   "metadata": {},
   "outputs": [],
   "source": [
    "import pandas as pd\n",
    "import numpy as np"
   ]
  },
  {
   "cell_type": "code",
   "execution_count": 4,
   "metadata": {},
   "outputs": [],
   "source": [
    "df_endpoints_1 = pd.read_csv('Data/Endpoints/Endpoint_1.csv')\n",
    "df_endpoints_2 = pd.read_csv('Data/Endpoints/Endpoint_2.csv')\n",
    "df_endpoints_3 = pd.read_csv('Data/Endpoints/Endpoint_3.csv')\n",
    "df_endpoints_4 = pd.read_csv('Data/Endpoints/Endpoint_4.csv')\n",
    "df_endpoints_5 = pd.read_csv('Data/Endpoints/Endpoint_5.csv')"
   ]
  },
  {
   "cell_type": "code",
   "execution_count": 5,
   "metadata": {},
   "outputs": [],
   "source": [
    "sim_coseno = np.load('sim_coseno.npy')\n",
    "\n",
    "df_MLM = pd.read_csv('Data/data_MLM_1.csv')"
   ]
  },
  {
   "cell_type": "code",
   "execution_count": 4,
   "metadata": {},
   "outputs": [],
   "source": [
    "def endpoint1(genero: str):\n",
    "\n",
    "    if genero in df_endpoints_1['Gen'].values:\n",
    "   \n",
    "        mensaje = df_endpoints_1.loc[df_endpoints_1['Gen'] == genero, 'Mensaje'].values[0]\n",
    "        return mensaje\n",
    "    else:\n",
    "        return (f\"No se encuentra '{genero}' en la lista.\")"
   ]
  },
  {
   "cell_type": "code",
   "execution_count": 5,
   "metadata": {},
   "outputs": [
    {
     "data": {
      "text/plain": [
       "'Año de lanzamiento con más horas jugadas para Género 1980s: 2015'"
      ]
     },
     "execution_count": 5,
     "metadata": {},
     "output_type": "execute_result"
    }
   ],
   "source": [
    "endpoint1('1980s')"
   ]
  },
  {
   "cell_type": "code",
   "execution_count": 12,
   "metadata": {},
   "outputs": [],
   "source": [
    "def endpoint2(genero: str):\n",
    "\n",
    "    if genero in df_endpoints_2['Genero'].values:\n",
    "   \n",
    "        mensaje = df_endpoints_2.loc[df_endpoints_2['Genero'] == genero, 'mensaje'].values[0]\n",
    "        return mensaje\n",
    "    else:\n",
    "        return (f\"No se encuentra '{genero}' en la lista.\")"
   ]
  },
  {
   "cell_type": "code",
   "execution_count": 13,
   "metadata": {},
   "outputs": [
    {
     "data": {
      "text/plain": [
       "'Usuario con más horas jugadas para Género 1980s : 76561198042170355, Horas jugadas: año 2015.0, 10467'"
      ]
     },
     "execution_count": 13,
     "metadata": {},
     "output_type": "execute_result"
    }
   ],
   "source": [
    "endpoint2('1980s')"
   ]
  },
  {
   "cell_type": "code",
   "execution_count": 19,
   "metadata": {},
   "outputs": [],
   "source": [
    "def endpoint3(anio: int):\n",
    "\n",
    "    if anio in df_endpoints_3['posted'].values:\n",
    "   \n",
    "        mensaje = df_endpoints_3.loc[df_endpoints_3['posted'] == anio, 'Top 3 Games'].values[0]\n",
    "        return mensaje\n",
    "    else:\n",
    "        return (f\"No se encuentra '{anio}' en la lista.\")"
   ]
  },
  {
   "cell_type": "code",
   "execution_count": 20,
   "metadata": {},
   "outputs": [
    {
     "data": {
      "text/plain": [
       "'Puesto 1: Team Fortress 2, Puesto 2: Killing Floor, Puesto 3: Alien Swarm, para el año 2010'"
      ]
     },
     "execution_count": 20,
     "metadata": {},
     "output_type": "execute_result"
    }
   ],
   "source": [
    "endpoint3(2010)"
   ]
  },
  {
   "cell_type": "code",
   "execution_count": 24,
   "metadata": {},
   "outputs": [],
   "source": [
    "def endpoint4(anio: int):\n",
    "\n",
    "    if anio in df_endpoints_4['posted_x'].values:\n",
    "   \n",
    "        mensaje = df_endpoints_4.loc[df_endpoints_4['posted_x'] == anio, 'Worst 3 Games'].values[0]\n",
    "        return mensaje\n",
    "    else:\n",
    "        return (f\"No se encuentra '{anio}' en la lista.\")"
   ]
  },
  {
   "cell_type": "code",
   "execution_count": 25,
   "metadata": {},
   "outputs": [
    {
     "data": {
      "text/plain": [
       "'Puesto 1: And Yet It Moves, Puesto 2: Men of War: Vietnam, Puesto 3: Steam Greenlight N 24500, para el año 2011'"
      ]
     },
     "execution_count": 25,
     "metadata": {},
     "output_type": "execute_result"
    }
   ],
   "source": [
    "endpoint4(2011)"
   ]
  },
  {
   "cell_type": "code",
   "execution_count": 27,
   "metadata": {},
   "outputs": [],
   "source": [
    "def endpoint5(dev: str):\n",
    "\n",
    "    if dev in df_endpoints_5['developer'].values:\n",
    "   \n",
    "        mensaje = df_endpoints_5.loc[df_endpoints_5['developer'] == dev, 'mensaje'].values[0]\n",
    "        return mensaje\n",
    "    else:\n",
    "        return (f\"No se encuentra '{dev}' en la lista.\")"
   ]
  },
  {
   "cell_type": "code",
   "execution_count": 36,
   "metadata": {},
   "outputs": [
    {
     "data": {
      "text/plain": [
       "'07th Expansion : Negative = 0, Neutral = 1, Positive = 1'"
      ]
     },
     "execution_count": 36,
     "metadata": {},
     "output_type": "execute_result"
    }
   ],
   "source": [
    "endpoint5('07th Expansion')"
   ]
  },
  {
   "cell_type": "code",
   "execution_count": 39,
   "metadata": {},
   "outputs": [],
   "source": [
    "def modelo_recomendacion(id: int):\n",
    "\n",
    "    idx = df_MLM[df_MLM['id'] == id].index[0]\n",
    "    juegos_rec = df_MLM['app_name'].iloc[sim_coseno[idx]]\n",
    "\n",
    "    msj = {'recommendations': None}\n",
    "    msj['recommendations'] = list(juegos_rec)\n",
    "\n",
    "    return msj"
   ]
  },
  {
   "cell_type": "code",
   "execution_count": 40,
   "metadata": {},
   "outputs": [
    {
     "data": {
      "text/plain": [
       "{'recommendations': ['Warhammer® 40,000: Dawn of War® II Chaos Rising',\n",
       "  'White Night',\n",
       "  '99 Levels to Hell Soundtrack',\n",
       "  'Mini Motor Racing EVO',\n",
       "  'GASP']}"
      ]
     },
     "execution_count": 40,
     "metadata": {},
     "output_type": "execute_result"
    }
   ],
   "source": [
    "modelo_recomendacion(289570)"
   ]
  }
 ],
 "metadata": {
  "kernelspec": {
   "display_name": "steam_p1",
   "language": "python",
   "name": "python3"
  },
  "language_info": {
   "codemirror_mode": {
    "name": "ipython",
    "version": 3
   },
   "file_extension": ".py",
   "mimetype": "text/x-python",
   "name": "python",
   "nbconvert_exporter": "python",
   "pygments_lexer": "ipython3",
   "version": "3.11.2"
  }
 },
 "nbformat": 4,
 "nbformat_minor": 2
}
