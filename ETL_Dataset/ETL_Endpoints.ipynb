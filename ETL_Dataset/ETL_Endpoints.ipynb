{
 "cells": [
  {
   "cell_type": "code",
   "execution_count": 1,
   "metadata": {},
   "outputs": [],
   "source": [
    "import pandas as pd\n",
    "import numpy as np"
   ]
  },
  {
   "cell_type": "markdown",
   "metadata": {},
   "source": [
    "# Endpoint 1"
   ]
  },
  {
   "cell_type": "code",
   "execution_count": 3,
   "metadata": {},
   "outputs": [],
   "source": [
    "df_f1 = pd.read_csv('Data/Funcion_1_Query_1.csv')"
   ]
  },
  {
   "cell_type": "code",
   "execution_count": 4,
   "metadata": {},
   "outputs": [],
   "source": [
    "# Se encuentra los índices de las filas con el mayor valor de 'Playtime' para cada 'Genero'\n",
    "max_playtime_indices = df_f1.groupby('Gen')['Playtime'].idxmax()\n",
    "\n",
    "# Selecciona las filas correspondientes a esos índices y se vierten en un nuevo DF\n",
    "df_f1_v2 = df_f1.loc[max_playtime_indices]"
   ]
  },
  {
   "cell_type": "code",
   "execution_count": 5,
   "metadata": {},
   "outputs": [
    {
     "data": {
      "text/html": [
       "<div>\n",
       "<style scoped>\n",
       "    .dataframe tbody tr th:only-of-type {\n",
       "        vertical-align: middle;\n",
       "    }\n",
       "\n",
       "    .dataframe tbody tr th {\n",
       "        vertical-align: top;\n",
       "    }\n",
       "\n",
       "    .dataframe thead th {\n",
       "        text-align: right;\n",
       "    }\n",
       "</style>\n",
       "<table border=\"1\" class=\"dataframe\">\n",
       "  <thead>\n",
       "    <tr style=\"text-align: right;\">\n",
       "      <th></th>\n",
       "      <th>Gen</th>\n",
       "      <th>Year</th>\n",
       "      <th>Playtime</th>\n",
       "    </tr>\n",
       "  </thead>\n",
       "  <tbody>\n",
       "    <tr>\n",
       "      <th>0</th>\n",
       "      <td>1980s</td>\n",
       "      <td>2015</td>\n",
       "      <td>24057</td>\n",
       "    </tr>\n",
       "    <tr>\n",
       "      <th>1</th>\n",
       "      <td>1990s\"\"</td>\n",
       "      <td>2011</td>\n",
       "      <td>173548</td>\n",
       "    </tr>\n",
       "    <tr>\n",
       "      <th>2</th>\n",
       "      <td>2D</td>\n",
       "      <td>2012</td>\n",
       "      <td>168599</td>\n",
       "    </tr>\n",
       "    <tr>\n",
       "      <th>3</th>\n",
       "      <td>3D Platformer</td>\n",
       "      <td>2011</td>\n",
       "      <td>173548</td>\n",
       "    </tr>\n",
       "    <tr>\n",
       "      <th>4</th>\n",
       "      <td>Action</td>\n",
       "      <td>2012</td>\n",
       "      <td>1099231451</td>\n",
       "    </tr>\n",
       "    <tr>\n",
       "      <th>...</th>\n",
       "      <td>...</td>\n",
       "      <td>...</td>\n",
       "      <td>...</td>\n",
       "    </tr>\n",
       "    <tr>\n",
       "      <th>127</th>\n",
       "      <td>Walking Simulator</td>\n",
       "      <td>2015</td>\n",
       "      <td>2</td>\n",
       "    </tr>\n",
       "    <tr>\n",
       "      <th>128</th>\n",
       "      <td>Web Publishing</td>\n",
       "      <td>2012</td>\n",
       "      <td>1947406</td>\n",
       "    </tr>\n",
       "    <tr>\n",
       "      <th>129</th>\n",
       "      <td>World War I</td>\n",
       "      <td>2016</td>\n",
       "      <td>0</td>\n",
       "    </tr>\n",
       "    <tr>\n",
       "      <th>130</th>\n",
       "      <td>Zombies</td>\n",
       "      <td>2015</td>\n",
       "      <td>2730</td>\n",
       "    </tr>\n",
       "    <tr>\n",
       "      <th>131</th>\n",
       "      <td>e-sports</td>\n",
       "      <td>2014</td>\n",
       "      <td>451933</td>\n",
       "    </tr>\n",
       "  </tbody>\n",
       "</table>\n",
       "<p>132 rows × 3 columns</p>\n",
       "</div>"
      ],
      "text/plain": [
       "                   Gen  Year    Playtime\n",
       "0                1980s  2015       24057\n",
       "1              1990s\"\"  2011      173548\n",
       "2                   2D  2012      168599\n",
       "3        3D Platformer  2011      173548\n",
       "4               Action  2012  1099231451\n",
       "..                 ...   ...         ...\n",
       "127  Walking Simulator  2015           2\n",
       "128     Web Publishing  2012     1947406\n",
       "129        World War I  2016           0\n",
       "130            Zombies  2015        2730\n",
       "131           e-sports  2014      451933\n",
       "\n",
       "[132 rows x 3 columns]"
      ]
     },
     "execution_count": 5,
     "metadata": {},
     "output_type": "execute_result"
    }
   ],
   "source": [
    "df_f1_v2.reset_index(drop=True)"
   ]
  },
  {
   "cell_type": "code",
   "execution_count": 6,
   "metadata": {},
   "outputs": [
    {
     "name": "stdout",
     "output_type": "stream",
     "text": [
      "132\n",
      "Gen         0\n",
      "Year        0\n",
      "Playtime    0\n",
      "dtype: int64\n",
      "0\n"
     ]
    }
   ],
   "source": [
    "print(len(df_f1_v2))\n",
    "print(df_f1_v2.isnull().sum())\n",
    "print(df_f1_v2['Gen'].duplicated().sum())"
   ]
  },
  {
   "cell_type": "code",
   "execution_count": 7,
   "metadata": {},
   "outputs": [
    {
     "data": {
      "text/plain": [
       "134         24057\n",
       "294        173548\n",
       "270        168599\n",
       "309        173548\n",
       "248    1099231451\n",
       "          ...    \n",
       "157             2\n",
       "278       1947406\n",
       "78              0\n",
       "139          2730\n",
       "195        451933\n",
       "Name: Playtime, Length: 132, dtype: int32"
      ]
     },
     "execution_count": 7,
     "metadata": {},
     "output_type": "execute_result"
    }
   ],
   "source": [
    "df_f1_v3 = df_f1_v2.copy()\n",
    "\n",
    "df_f1_v3['Gen'].astype(str)\n",
    "df_f1_v3['Year'].astype(str)\n",
    "df_f1_v3['Playtime'].astype(int)"
   ]
  },
  {
   "cell_type": "code",
   "execution_count": 8,
   "metadata": {},
   "outputs": [],
   "source": [
    "# Remover los caracteres \"\n",
    "df_f1_v3['Gen'] = df_f1_v3['Gen'].str.replace('\"', '')\n",
    "\n",
    "# Reemplazar &amp; con NaN y luego propagar hacia adelante los valores no nulos\n",
    "df_f1_v3['Gen'] = df_f1_v3['Gen'].str.replace('&amp;', '&', regex=True)"
   ]
  },
  {
   "cell_type": "code",
   "execution_count": 9,
   "metadata": {},
   "outputs": [],
   "source": [
    "# Fusionar los duplicados de \"Gen\" y sumar los valores de \"Playtime\"\n",
    "df_f1_v4 = df_f1_v3.groupby('Gen', as_index=False).agg({'Year': 'first', 'Playtime': 'sum'})"
   ]
  },
  {
   "cell_type": "code",
   "execution_count": 10,
   "metadata": {},
   "outputs": [
    {
     "data": {
      "text/html": [
       "<div>\n",
       "<style scoped>\n",
       "    .dataframe tbody tr th:only-of-type {\n",
       "        vertical-align: middle;\n",
       "    }\n",
       "\n",
       "    .dataframe tbody tr th {\n",
       "        vertical-align: top;\n",
       "    }\n",
       "\n",
       "    .dataframe thead th {\n",
       "        text-align: right;\n",
       "    }\n",
       "</style>\n",
       "<table border=\"1\" class=\"dataframe\">\n",
       "  <thead>\n",
       "    <tr style=\"text-align: right;\">\n",
       "      <th></th>\n",
       "      <th>Gen</th>\n",
       "      <th>Year</th>\n",
       "      <th>Playtime</th>\n",
       "    </tr>\n",
       "  </thead>\n",
       "  <tbody>\n",
       "    <tr>\n",
       "      <th>0</th>\n",
       "      <td>1980s</td>\n",
       "      <td>2015</td>\n",
       "      <td>24057</td>\n",
       "    </tr>\n",
       "    <tr>\n",
       "      <th>1</th>\n",
       "      <td>1990s</td>\n",
       "      <td>2011</td>\n",
       "      <td>173548</td>\n",
       "    </tr>\n",
       "    <tr>\n",
       "      <th>2</th>\n",
       "      <td>2D</td>\n",
       "      <td>2012</td>\n",
       "      <td>168599</td>\n",
       "    </tr>\n",
       "    <tr>\n",
       "      <th>3</th>\n",
       "      <td>3D Platformer</td>\n",
       "      <td>2011</td>\n",
       "      <td>173548</td>\n",
       "    </tr>\n",
       "    <tr>\n",
       "      <th>4</th>\n",
       "      <td>Action</td>\n",
       "      <td>2012</td>\n",
       "      <td>1099231451</td>\n",
       "    </tr>\n",
       "  </tbody>\n",
       "</table>\n",
       "</div>"
      ],
      "text/plain": [
       "             Gen  Year    Playtime\n",
       "0          1980s  2015       24057\n",
       "1          1990s  2011      173548\n",
       "2             2D  2012      168599\n",
       "3  3D Platformer  2011      173548\n",
       "4         Action  2012  1099231451"
      ]
     },
     "execution_count": 10,
     "metadata": {},
     "output_type": "execute_result"
    }
   ],
   "source": [
    "df_f1_v4.head(5)"
   ]
  },
  {
   "cell_type": "code",
   "execution_count": 11,
   "metadata": {},
   "outputs": [
    {
     "name": "stdout",
     "output_type": "stream",
     "text": [
      "130\n",
      "Gen         0\n",
      "Year        0\n",
      "Playtime    0\n",
      "dtype: int64\n",
      "0\n"
     ]
    }
   ],
   "source": [
    "print(len(df_f1_v4))\n",
    "print(df_f1_v4.isnull().sum())\n",
    "print(df_f1_v4['Gen'].duplicated().sum())"
   ]
  },
  {
   "cell_type": "code",
   "execution_count": 15,
   "metadata": {},
   "outputs": [],
   "source": [
    "df_f1_v5 = df_f1_v4.copy()"
   ]
  },
  {
   "cell_type": "code",
   "execution_count": 16,
   "metadata": {},
   "outputs": [],
   "source": [
    "df_f1_v5['Mensaje'] = (\n",
    "    'Año de lanzamiento con más horas jugadas para Género ' +\n",
    "    df_f1_v4['Gen'] + ': ' + df_f1_v4['Year'].astype(str)\n",
    ")"
   ]
  },
  {
   "cell_type": "code",
   "execution_count": 17,
   "metadata": {},
   "outputs": [
    {
     "data": {
      "text/plain": [
       "'Año de lanzamiento con más horas jugadas para Género 1980s: 2015'"
      ]
     },
     "execution_count": 17,
     "metadata": {},
     "output_type": "execute_result"
    }
   ],
   "source": [
    "df_f1_v5['Mensaje'][0]"
   ]
  },
  {
   "cell_type": "code",
   "execution_count": 18,
   "metadata": {},
   "outputs": [
    {
     "data": {
      "text/plain": [
       "Index(['Gen', 'Year', 'Playtime', 'Mensaje'], dtype='object')"
      ]
     },
     "execution_count": 18,
     "metadata": {},
     "output_type": "execute_result"
    }
   ],
   "source": [
    "df_f1_v5.columns"
   ]
  },
  {
   "cell_type": "code",
   "execution_count": 20,
   "metadata": {},
   "outputs": [],
   "source": [
    "df_f1_final = df_f1_v5.drop(['Playtime','Year'], axis=1)"
   ]
  },
  {
   "cell_type": "code",
   "execution_count": 21,
   "metadata": {},
   "outputs": [
    {
     "data": {
      "text/html": [
       "<div>\n",
       "<style scoped>\n",
       "    .dataframe tbody tr th:only-of-type {\n",
       "        vertical-align: middle;\n",
       "    }\n",
       "\n",
       "    .dataframe tbody tr th {\n",
       "        vertical-align: top;\n",
       "    }\n",
       "\n",
       "    .dataframe thead th {\n",
       "        text-align: right;\n",
       "    }\n",
       "</style>\n",
       "<table border=\"1\" class=\"dataframe\">\n",
       "  <thead>\n",
       "    <tr style=\"text-align: right;\">\n",
       "      <th></th>\n",
       "      <th>Gen</th>\n",
       "      <th>Mensaje</th>\n",
       "    </tr>\n",
       "  </thead>\n",
       "  <tbody>\n",
       "    <tr>\n",
       "      <th>0</th>\n",
       "      <td>1980s</td>\n",
       "      <td>Año de lanzamiento con más horas jugadas para ...</td>\n",
       "    </tr>\n",
       "    <tr>\n",
       "      <th>1</th>\n",
       "      <td>1990s</td>\n",
       "      <td>Año de lanzamiento con más horas jugadas para ...</td>\n",
       "    </tr>\n",
       "    <tr>\n",
       "      <th>2</th>\n",
       "      <td>2D</td>\n",
       "      <td>Año de lanzamiento con más horas jugadas para ...</td>\n",
       "    </tr>\n",
       "    <tr>\n",
       "      <th>3</th>\n",
       "      <td>3D Platformer</td>\n",
       "      <td>Año de lanzamiento con más horas jugadas para ...</td>\n",
       "    </tr>\n",
       "    <tr>\n",
       "      <th>4</th>\n",
       "      <td>Action</td>\n",
       "      <td>Año de lanzamiento con más horas jugadas para ...</td>\n",
       "    </tr>\n",
       "  </tbody>\n",
       "</table>\n",
       "</div>"
      ],
      "text/plain": [
       "             Gen                                            Mensaje\n",
       "0          1980s  Año de lanzamiento con más horas jugadas para ...\n",
       "1          1990s  Año de lanzamiento con más horas jugadas para ...\n",
       "2             2D  Año de lanzamiento con más horas jugadas para ...\n",
       "3  3D Platformer  Año de lanzamiento con más horas jugadas para ...\n",
       "4         Action  Año de lanzamiento con más horas jugadas para ..."
      ]
     },
     "execution_count": 21,
     "metadata": {},
     "output_type": "execute_result"
    }
   ],
   "source": [
    "df_f1_final.head()"
   ]
  },
  {
   "cell_type": "code",
   "execution_count": 22,
   "metadata": {},
   "outputs": [
    {
     "data": {
      "text/plain": [
       "'Año de lanzamiento con más horas jugadas para Género 1980s: 2015'"
      ]
     },
     "execution_count": 22,
     "metadata": {},
     "output_type": "execute_result"
    }
   ],
   "source": [
    "df_f1_final['Mensaje'][0]"
   ]
  },
  {
   "cell_type": "code",
   "execution_count": 26,
   "metadata": {},
   "outputs": [],
   "source": [
    "df_f1_final.to_csv('Data/Endpoints/Endpoint_1.csv', index=False)"
   ]
  },
  {
   "cell_type": "markdown",
   "metadata": {},
   "source": [
    "# Endpoint 2"
   ]
  },
  {
   "cell_type": "code",
   "execution_count": 28,
   "metadata": {},
   "outputs": [],
   "source": [
    "df_f2 = pd.read_csv('Data\\Funcion_2_Query_1.csv')"
   ]
  },
  {
   "cell_type": "code",
   "execution_count": 29,
   "metadata": {},
   "outputs": [
    {
     "name": "stdout",
     "output_type": "stream",
     "text": [
      "132\n",
      "Genero      0\n",
      "usuario     0\n",
      "Playtime    0\n",
      "dtype: int64\n"
     ]
    },
    {
     "data": {
      "text/html": [
       "<div>\n",
       "<style scoped>\n",
       "    .dataframe tbody tr th:only-of-type {\n",
       "        vertical-align: middle;\n",
       "    }\n",
       "\n",
       "    .dataframe tbody tr th {\n",
       "        vertical-align: top;\n",
       "    }\n",
       "\n",
       "    .dataframe thead th {\n",
       "        text-align: right;\n",
       "    }\n",
       "</style>\n",
       "<table border=\"1\" class=\"dataframe\">\n",
       "  <thead>\n",
       "    <tr style=\"text-align: right;\">\n",
       "      <th></th>\n",
       "      <th>Genero</th>\n",
       "      <th>usuario</th>\n",
       "      <th>Playtime</th>\n",
       "    </tr>\n",
       "  </thead>\n",
       "  <tbody>\n",
       "    <tr>\n",
       "      <th>0</th>\n",
       "      <td>1990s\"\"</td>\n",
       "      <td>76561197995146150</td>\n",
       "      <td>15942</td>\n",
       "    </tr>\n",
       "    <tr>\n",
       "      <th>1</th>\n",
       "      <td>1980s</td>\n",
       "      <td>76561198042170355</td>\n",
       "      <td>10467</td>\n",
       "    </tr>\n",
       "    <tr>\n",
       "      <th>2</th>\n",
       "      <td>2D</td>\n",
       "      <td>76561198083612270</td>\n",
       "      <td>24664</td>\n",
       "    </tr>\n",
       "    <tr>\n",
       "      <th>3</th>\n",
       "      <td>3D Platformer</td>\n",
       "      <td>76561197995146150</td>\n",
       "      <td>15820</td>\n",
       "    </tr>\n",
       "    <tr>\n",
       "      <th>4</th>\n",
       "      <td>Action</td>\n",
       "      <td>Sp3ctre</td>\n",
       "      <td>1697651</td>\n",
       "    </tr>\n",
       "  </tbody>\n",
       "</table>\n",
       "</div>"
      ],
      "text/plain": [
       "          Genero            usuario  Playtime\n",
       "0        1990s\"\"  76561197995146150     15942\n",
       "1          1980s  76561198042170355     10467\n",
       "2             2D  76561198083612270     24664\n",
       "3  3D Platformer  76561197995146150     15820\n",
       "4         Action            Sp3ctre   1697651"
      ]
     },
     "execution_count": 29,
     "metadata": {},
     "output_type": "execute_result"
    }
   ],
   "source": [
    "print(len(df_f2))\n",
    "print(df_f2.isnull().sum())\n",
    "df_f2.head()"
   ]
  },
  {
   "cell_type": "code",
   "execution_count": 30,
   "metadata": {},
   "outputs": [],
   "source": [
    "# Remover los caracteres \"\n",
    "df_f2['Genero'] = df_f2['Genero'].str.replace('\"', '')\n",
    "\n",
    "# Reemplazar &amp; con NaN y luego propagar hacia adelante los valores no nulos\n",
    "df_f2['Genero'] = df_f2['Genero'].str.replace('&amp;', '&', regex=True)"
   ]
  },
  {
   "cell_type": "code",
   "execution_count": 31,
   "metadata": {},
   "outputs": [
    {
     "name": "stdout",
     "output_type": "stream",
     "text": [
      "132\n",
      "Genero      0\n",
      "usuario     0\n",
      "Playtime    0\n",
      "dtype: int64\n",
      "2\n"
     ]
    }
   ],
   "source": [
    "print(len(df_f2))\n",
    "print(df_f2.isnull().sum())\n",
    "print(df_f2['Genero'].duplicated().sum())"
   ]
  },
  {
   "cell_type": "code",
   "execution_count": 32,
   "metadata": {},
   "outputs": [],
   "source": [
    "df_f2_v2 = df_f2.copy()"
   ]
  },
  {
   "cell_type": "code",
   "execution_count": 33,
   "metadata": {},
   "outputs": [],
   "source": [
    "# Se eliminan los duplicados en la columna 'Genero'\n",
    "\n",
    "df_f2_v2 = df_f2_v2.drop_duplicates(subset='Genero', keep='last')"
   ]
  },
  {
   "cell_type": "code",
   "execution_count": 34,
   "metadata": {},
   "outputs": [
    {
     "name": "stdout",
     "output_type": "stream",
     "text": [
      "130\n",
      "Genero      0\n",
      "usuario     0\n",
      "Playtime    0\n",
      "dtype: int64\n",
      "0\n"
     ]
    },
    {
     "data": {
      "text/html": [
       "<div>\n",
       "<style scoped>\n",
       "    .dataframe tbody tr th:only-of-type {\n",
       "        vertical-align: middle;\n",
       "    }\n",
       "\n",
       "    .dataframe tbody tr th {\n",
       "        vertical-align: top;\n",
       "    }\n",
       "\n",
       "    .dataframe thead th {\n",
       "        text-align: right;\n",
       "    }\n",
       "</style>\n",
       "<table border=\"1\" class=\"dataframe\">\n",
       "  <thead>\n",
       "    <tr style=\"text-align: right;\">\n",
       "      <th></th>\n",
       "      <th>Genero</th>\n",
       "      <th>usuario</th>\n",
       "      <th>Playtime</th>\n",
       "    </tr>\n",
       "  </thead>\n",
       "  <tbody>\n",
       "    <tr>\n",
       "      <th>0</th>\n",
       "      <td>1990s</td>\n",
       "      <td>76561197995146150</td>\n",
       "      <td>15942</td>\n",
       "    </tr>\n",
       "    <tr>\n",
       "      <th>1</th>\n",
       "      <td>1980s</td>\n",
       "      <td>76561198042170355</td>\n",
       "      <td>10467</td>\n",
       "    </tr>\n",
       "    <tr>\n",
       "      <th>2</th>\n",
       "      <td>2D</td>\n",
       "      <td>76561198083612270</td>\n",
       "      <td>24664</td>\n",
       "    </tr>\n",
       "    <tr>\n",
       "      <th>3</th>\n",
       "      <td>3D Platformer</td>\n",
       "      <td>76561197995146150</td>\n",
       "      <td>15820</td>\n",
       "    </tr>\n",
       "    <tr>\n",
       "      <th>4</th>\n",
       "      <td>Action</td>\n",
       "      <td>Sp3ctre</td>\n",
       "      <td>1697651</td>\n",
       "    </tr>\n",
       "  </tbody>\n",
       "</table>\n",
       "</div>"
      ],
      "text/plain": [
       "          Genero            usuario  Playtime\n",
       "0          1990s  76561197995146150     15942\n",
       "1          1980s  76561198042170355     10467\n",
       "2             2D  76561198083612270     24664\n",
       "3  3D Platformer  76561197995146150     15820\n",
       "4         Action            Sp3ctre   1697651"
      ]
     },
     "execution_count": 34,
     "metadata": {},
     "output_type": "execute_result"
    }
   ],
   "source": [
    "print(len(df_f2_v2))\n",
    "print(df_f2_v2.isnull().sum())\n",
    "print(df_f2_v2['Genero'].duplicated().sum())\n",
    "df_f2_v2.head()"
   ]
  },
  {
   "cell_type": "code",
   "execution_count": 35,
   "metadata": {},
   "outputs": [],
   "source": [
    "df_f2_v3 = df_f2_v2.copy()"
   ]
  },
  {
   "cell_type": "code",
   "execution_count": 36,
   "metadata": {},
   "outputs": [],
   "source": [
    "df_f2_v3 = df_f2_v3.drop(['Playtime'], axis=1)\n",
    "\n",
    "df_f2_v3 = df_f2_v3.rename(columns={'usuario': 'user_id'})"
   ]
  },
  {
   "cell_type": "code",
   "execution_count": 37,
   "metadata": {},
   "outputs": [
    {
     "name": "stdout",
     "output_type": "stream",
     "text": [
      "130\n",
      "Genero     0\n",
      "user_id    0\n",
      "dtype: int64\n",
      "Index(['Genero', 'user_id'], dtype='object')\n"
     ]
    }
   ],
   "source": [
    "print(len(df_f2_v3))\n",
    "print(df_f2_v3.isnull().sum())\n",
    "print(df_f2_v3.columns)"
   ]
  },
  {
   "cell_type": "code",
   "execution_count": 41,
   "metadata": {},
   "outputs": [],
   "source": [
    "df_iq_f2 = pd.read_csv('Data\\data_Items.csv')"
   ]
  },
  {
   "cell_type": "code",
   "execution_count": 42,
   "metadata": {},
   "outputs": [
    {
     "name": "stdout",
     "output_type": "stream",
     "text": [
      "5153209\n",
      "item_id             0\n",
      "item_name           0\n",
      "playtime_forever    0\n",
      "user_id             0\n",
      "items_count         0\n",
      "dtype: int64\n",
      "Index(['item_id', 'item_name', 'playtime_forever', 'user_id', 'items_count'], dtype='object')\n"
     ]
    }
   ],
   "source": [
    "print(len(df_iq_f2))\n",
    "print(df_iq_f2.isnull().sum())\n",
    "print(df_iq_f2.columns)"
   ]
  },
  {
   "cell_type": "code",
   "execution_count": 43,
   "metadata": {},
   "outputs": [],
   "source": [
    "df_iq_f2 = df_iq_f2.drop(['items_count', 'item_name'], axis=1)"
   ]
  },
  {
   "cell_type": "code",
   "execution_count": 44,
   "metadata": {},
   "outputs": [
    {
     "data": {
      "text/plain": [
       "Index(['item_id', 'playtime_forever', 'user_id'], dtype='object')"
      ]
     },
     "execution_count": 44,
     "metadata": {},
     "output_type": "execute_result"
    }
   ],
   "source": [
    "df_iq_f2.columns"
   ]
  },
  {
   "cell_type": "code",
   "execution_count": 45,
   "metadata": {},
   "outputs": [],
   "source": [
    "df_f2_v4 = pd.merge(df_f2_v3, df_iq_f2, on='user_id', how='inner')"
   ]
  },
  {
   "cell_type": "code",
   "execution_count": 46,
   "metadata": {},
   "outputs": [
    {
     "name": "stdout",
     "output_type": "stream",
     "text": [
      "68471\n",
      "Genero              0\n",
      "user_id             0\n",
      "item_id             0\n",
      "playtime_forever    0\n",
      "dtype: int64\n",
      "Index(['Genero', 'user_id', 'item_id', 'playtime_forever'], dtype='object')\n"
     ]
    }
   ],
   "source": [
    "print(len(df_f2_v4))\n",
    "print(df_f2_v4.isnull().sum())\n",
    "print(df_f2_v4.columns)"
   ]
  },
  {
   "cell_type": "code",
   "execution_count": 47,
   "metadata": {},
   "outputs": [
    {
     "data": {
      "text/html": [
       "<div>\n",
       "<style scoped>\n",
       "    .dataframe tbody tr th:only-of-type {\n",
       "        vertical-align: middle;\n",
       "    }\n",
       "\n",
       "    .dataframe tbody tr th {\n",
       "        vertical-align: top;\n",
       "    }\n",
       "\n",
       "    .dataframe thead th {\n",
       "        text-align: right;\n",
       "    }\n",
       "</style>\n",
       "<table border=\"1\" class=\"dataframe\">\n",
       "  <thead>\n",
       "    <tr style=\"text-align: right;\">\n",
       "      <th></th>\n",
       "      <th>Genero</th>\n",
       "      <th>user_id</th>\n",
       "      <th>item_id</th>\n",
       "      <th>playtime_forever</th>\n",
       "    </tr>\n",
       "  </thead>\n",
       "  <tbody>\n",
       "    <tr>\n",
       "      <th>0</th>\n",
       "      <td>1990s</td>\n",
       "      <td>76561197995146150</td>\n",
       "      <td>10</td>\n",
       "      <td>0</td>\n",
       "    </tr>\n",
       "    <tr>\n",
       "      <th>1</th>\n",
       "      <td>1990s</td>\n",
       "      <td>76561197995146150</td>\n",
       "      <td>80</td>\n",
       "      <td>0</td>\n",
       "    </tr>\n",
       "    <tr>\n",
       "      <th>2</th>\n",
       "      <td>1990s</td>\n",
       "      <td>76561197995146150</td>\n",
       "      <td>100</td>\n",
       "      <td>0</td>\n",
       "    </tr>\n",
       "    <tr>\n",
       "      <th>3</th>\n",
       "      <td>1990s</td>\n",
       "      <td>76561197995146150</td>\n",
       "      <td>20</td>\n",
       "      <td>2124</td>\n",
       "    </tr>\n",
       "    <tr>\n",
       "      <th>4</th>\n",
       "      <td>1990s</td>\n",
       "      <td>76561197995146150</td>\n",
       "      <td>50</td>\n",
       "      <td>0</td>\n",
       "    </tr>\n",
       "  </tbody>\n",
       "</table>\n",
       "</div>"
      ],
      "text/plain": [
       "  Genero            user_id  item_id  playtime_forever\n",
       "0  1990s  76561197995146150       10                 0\n",
       "1  1990s  76561197995146150       80                 0\n",
       "2  1990s  76561197995146150      100                 0\n",
       "3  1990s  76561197995146150       20              2124\n",
       "4  1990s  76561197995146150       50                 0"
      ]
     },
     "execution_count": 47,
     "metadata": {},
     "output_type": "execute_result"
    }
   ],
   "source": [
    "df_f2_v4.head(5)"
   ]
  },
  {
   "cell_type": "code",
   "execution_count": 48,
   "metadata": {},
   "outputs": [],
   "source": [
    "filtered_df = df_f2_v4[df_f2_v4['user_id'] == '76561197995146150']"
   ]
  },
  {
   "cell_type": "code",
   "execution_count": 49,
   "metadata": {},
   "outputs": [
    {
     "data": {
      "text/plain": [
       "Genero\n",
       "1990s                 342\n",
       "3D Platformer         342\n",
       "Anime                 342\n",
       "Classic               342\n",
       "Controller            342\n",
       "Female Protagonist    342\n",
       "Memes                 342\n",
       "Open World            342\n",
       "Replay Value          342\n",
       "Retro                 342\n",
       "Story Rich            342\n",
       "Third Person          342\n",
       "Name: count, dtype: int64"
      ]
     },
     "execution_count": 49,
     "metadata": {},
     "output_type": "execute_result"
    }
   ],
   "source": [
    "filtered_df['Genero'].value_counts()"
   ]
  },
  {
   "cell_type": "code",
   "execution_count": 50,
   "metadata": {},
   "outputs": [],
   "source": [
    "df_f2_v5 = df_f2_v4[df_f2_v4['playtime_forever'] != 0]"
   ]
  },
  {
   "cell_type": "code",
   "execution_count": 51,
   "metadata": {},
   "outputs": [
    {
     "name": "stdout",
     "output_type": "stream",
     "text": [
      "33760\n",
      "Genero              0\n",
      "user_id             0\n",
      "item_id             0\n",
      "playtime_forever    0\n",
      "dtype: int64\n",
      "Index(['Genero', 'user_id', 'item_id', 'playtime_forever'], dtype='object')\n"
     ]
    },
    {
     "data": {
      "text/html": [
       "<div>\n",
       "<style scoped>\n",
       "    .dataframe tbody tr th:only-of-type {\n",
       "        vertical-align: middle;\n",
       "    }\n",
       "\n",
       "    .dataframe tbody tr th {\n",
       "        vertical-align: top;\n",
       "    }\n",
       "\n",
       "    .dataframe thead th {\n",
       "        text-align: right;\n",
       "    }\n",
       "</style>\n",
       "<table border=\"1\" class=\"dataframe\">\n",
       "  <thead>\n",
       "    <tr style=\"text-align: right;\">\n",
       "      <th></th>\n",
       "      <th>Genero</th>\n",
       "      <th>user_id</th>\n",
       "      <th>item_id</th>\n",
       "      <th>playtime_forever</th>\n",
       "    </tr>\n",
       "  </thead>\n",
       "  <tbody>\n",
       "    <tr>\n",
       "      <th>3</th>\n",
       "      <td>1990s</td>\n",
       "      <td>76561197995146150</td>\n",
       "      <td>20</td>\n",
       "      <td>2124</td>\n",
       "    </tr>\n",
       "    <tr>\n",
       "      <th>5</th>\n",
       "      <td>1990s</td>\n",
       "      <td>76561197995146150</td>\n",
       "      <td>70</td>\n",
       "      <td>1</td>\n",
       "    </tr>\n",
       "    <tr>\n",
       "      <th>9</th>\n",
       "      <td>1990s</td>\n",
       "      <td>76561197995146150</td>\n",
       "      <td>320</td>\n",
       "      <td>8</td>\n",
       "    </tr>\n",
       "    <tr>\n",
       "      <th>10</th>\n",
       "      <td>1990s</td>\n",
       "      <td>76561197995146150</td>\n",
       "      <td>340</td>\n",
       "      <td>3011</td>\n",
       "    </tr>\n",
       "    <tr>\n",
       "      <th>12</th>\n",
       "      <td>1990s</td>\n",
       "      <td>76561197995146150</td>\n",
       "      <td>380</td>\n",
       "      <td>25209</td>\n",
       "    </tr>\n",
       "  </tbody>\n",
       "</table>\n",
       "</div>"
      ],
      "text/plain": [
       "   Genero            user_id  item_id  playtime_forever\n",
       "3   1990s  76561197995146150       20              2124\n",
       "5   1990s  76561197995146150       70                 1\n",
       "9   1990s  76561197995146150      320                 8\n",
       "10  1990s  76561197995146150      340              3011\n",
       "12  1990s  76561197995146150      380             25209"
      ]
     },
     "execution_count": 51,
     "metadata": {},
     "output_type": "execute_result"
    }
   ],
   "source": [
    "df_f2_v5.reset_index(drop=True)\n",
    "\n",
    "print(len(df_f2_v5))\n",
    "print(df_f2_v5.isnull().sum())\n",
    "print(df_f2_v5.columns)\n",
    "df_f2_v5.head(5)"
   ]
  },
  {
   "cell_type": "code",
   "execution_count": 52,
   "metadata": {},
   "outputs": [],
   "source": [
    "df_grd_f2 = pd.read_csv('Data\\data_Steam_1.csv')"
   ]
  },
  {
   "cell_type": "code",
   "execution_count": 53,
   "metadata": {},
   "outputs": [
    {
     "name": "stdout",
     "output_type": "stream",
     "text": [
      "74500\n",
      "genres          0\n",
      "release_date    0\n",
      "id              0\n",
      "dtype: int64\n",
      "Index(['genres', 'release_date', 'id'], dtype='object')\n"
     ]
    }
   ],
   "source": [
    "print(len(df_grd_f2))\n",
    "print(df_grd_f2.isnull().sum())\n",
    "print(df_grd_f2.columns)"
   ]
  },
  {
   "cell_type": "code",
   "execution_count": 54,
   "metadata": {},
   "outputs": [],
   "source": [
    "df_grd_f2 = df_grd_f2.rename(columns={'id': 'item_id'})"
   ]
  },
  {
   "cell_type": "code",
   "execution_count": 55,
   "metadata": {},
   "outputs": [
    {
     "data": {
      "text/plain": [
       "Index(['genres', 'release_date', 'item_id'], dtype='object')"
      ]
     },
     "execution_count": 55,
     "metadata": {},
     "output_type": "execute_result"
    }
   ],
   "source": [
    "df_grd_f2.columns"
   ]
  },
  {
   "cell_type": "code",
   "execution_count": 56,
   "metadata": {},
   "outputs": [
    {
     "data": {
      "text/html": [
       "<div>\n",
       "<style scoped>\n",
       "    .dataframe tbody tr th:only-of-type {\n",
       "        vertical-align: middle;\n",
       "    }\n",
       "\n",
       "    .dataframe tbody tr th {\n",
       "        vertical-align: top;\n",
       "    }\n",
       "\n",
       "    .dataframe thead th {\n",
       "        text-align: right;\n",
       "    }\n",
       "</style>\n",
       "<table border=\"1\" class=\"dataframe\">\n",
       "  <thead>\n",
       "    <tr style=\"text-align: right;\">\n",
       "      <th></th>\n",
       "      <th>genres</th>\n",
       "      <th>release_date</th>\n",
       "      <th>item_id</th>\n",
       "    </tr>\n",
       "  </thead>\n",
       "  <tbody>\n",
       "    <tr>\n",
       "      <th>0</th>\n",
       "      <td>Action</td>\n",
       "      <td>2018</td>\n",
       "      <td>761140</td>\n",
       "    </tr>\n",
       "    <tr>\n",
       "      <th>1</th>\n",
       "      <td>Casual</td>\n",
       "      <td>2018</td>\n",
       "      <td>761140</td>\n",
       "    </tr>\n",
       "    <tr>\n",
       "      <th>2</th>\n",
       "      <td>Indie</td>\n",
       "      <td>2018</td>\n",
       "      <td>761140</td>\n",
       "    </tr>\n",
       "    <tr>\n",
       "      <th>3</th>\n",
       "      <td>Simulation</td>\n",
       "      <td>2018</td>\n",
       "      <td>761140</td>\n",
       "    </tr>\n",
       "    <tr>\n",
       "      <th>4</th>\n",
       "      <td>Strategy</td>\n",
       "      <td>2018</td>\n",
       "      <td>761140</td>\n",
       "    </tr>\n",
       "    <tr>\n",
       "      <th>...</th>\n",
       "      <td>...</td>\n",
       "      <td>...</td>\n",
       "      <td>...</td>\n",
       "    </tr>\n",
       "    <tr>\n",
       "      <th>74495</th>\n",
       "      <td>Indie</td>\n",
       "      <td>2018</td>\n",
       "      <td>610660</td>\n",
       "    </tr>\n",
       "    <tr>\n",
       "      <th>74496</th>\n",
       "      <td>Racing</td>\n",
       "      <td>2018</td>\n",
       "      <td>610660</td>\n",
       "    </tr>\n",
       "    <tr>\n",
       "      <th>74497</th>\n",
       "      <td>Simulation</td>\n",
       "      <td>2018</td>\n",
       "      <td>610660</td>\n",
       "    </tr>\n",
       "    <tr>\n",
       "      <th>74498</th>\n",
       "      <td>Casual</td>\n",
       "      <td>2017</td>\n",
       "      <td>658870</td>\n",
       "    </tr>\n",
       "    <tr>\n",
       "      <th>74499</th>\n",
       "      <td>Indie</td>\n",
       "      <td>2017</td>\n",
       "      <td>658870</td>\n",
       "    </tr>\n",
       "  </tbody>\n",
       "</table>\n",
       "<p>74500 rows × 3 columns</p>\n",
       "</div>"
      ],
      "text/plain": [
       "           genres  release_date  item_id\n",
       "0          Action          2018   761140\n",
       "1          Casual          2018   761140\n",
       "2           Indie          2018   761140\n",
       "3      Simulation          2018   761140\n",
       "4        Strategy          2018   761140\n",
       "...           ...           ...      ...\n",
       "74495       Indie          2018   610660\n",
       "74496      Racing          2018   610660\n",
       "74497  Simulation          2018   610660\n",
       "74498      Casual          2017   658870\n",
       "74499       Indie          2017   658870\n",
       "\n",
       "[74500 rows x 3 columns]"
      ]
     },
     "execution_count": 56,
     "metadata": {},
     "output_type": "execute_result"
    }
   ],
   "source": [
    "df_f2_v5.reset_index(drop=True)\n",
    "df_grd_f2.reset_index(drop=True)"
   ]
  },
  {
   "cell_type": "code",
   "execution_count": 57,
   "metadata": {},
   "outputs": [],
   "source": [
    "df_f2_v6 = pd.merge(df_f2_v5, df_grd_f2, on='item_id', how='left')"
   ]
  },
  {
   "cell_type": "code",
   "execution_count": 58,
   "metadata": {},
   "outputs": [
    {
     "name": "stdout",
     "output_type": "stream",
     "text": [
      "78147\n",
      "Genero                 0\n",
      "user_id                0\n",
      "item_id                0\n",
      "playtime_forever       0\n",
      "genres              3898\n",
      "release_date        3898\n",
      "dtype: int64\n",
      "Index(['Genero', 'user_id', 'item_id', 'playtime_forever', 'genres',\n",
      "       'release_date'],\n",
      "      dtype='object')\n"
     ]
    },
    {
     "data": {
      "text/html": [
       "<div>\n",
       "<style scoped>\n",
       "    .dataframe tbody tr th:only-of-type {\n",
       "        vertical-align: middle;\n",
       "    }\n",
       "\n",
       "    .dataframe tbody tr th {\n",
       "        vertical-align: top;\n",
       "    }\n",
       "\n",
       "    .dataframe thead th {\n",
       "        text-align: right;\n",
       "    }\n",
       "</style>\n",
       "<table border=\"1\" class=\"dataframe\">\n",
       "  <thead>\n",
       "    <tr style=\"text-align: right;\">\n",
       "      <th></th>\n",
       "      <th>Genero</th>\n",
       "      <th>user_id</th>\n",
       "      <th>item_id</th>\n",
       "      <th>playtime_forever</th>\n",
       "      <th>genres</th>\n",
       "      <th>release_date</th>\n",
       "    </tr>\n",
       "  </thead>\n",
       "  <tbody>\n",
       "    <tr>\n",
       "      <th>0</th>\n",
       "      <td>1990s</td>\n",
       "      <td>76561197995146150</td>\n",
       "      <td>20</td>\n",
       "      <td>2124</td>\n",
       "      <td>Action</td>\n",
       "      <td>1999.0</td>\n",
       "    </tr>\n",
       "    <tr>\n",
       "      <th>1</th>\n",
       "      <td>1990s</td>\n",
       "      <td>76561197995146150</td>\n",
       "      <td>70</td>\n",
       "      <td>1</td>\n",
       "      <td>Action</td>\n",
       "      <td>1998.0</td>\n",
       "    </tr>\n",
       "    <tr>\n",
       "      <th>2</th>\n",
       "      <td>1990s</td>\n",
       "      <td>76561197995146150</td>\n",
       "      <td>320</td>\n",
       "      <td>8</td>\n",
       "      <td>Action</td>\n",
       "      <td>2004.0</td>\n",
       "    </tr>\n",
       "    <tr>\n",
       "      <th>3</th>\n",
       "      <td>1990s</td>\n",
       "      <td>76561197995146150</td>\n",
       "      <td>340</td>\n",
       "      <td>3011</td>\n",
       "      <td>Action</td>\n",
       "      <td>2005.0</td>\n",
       "    </tr>\n",
       "    <tr>\n",
       "      <th>4</th>\n",
       "      <td>1990s</td>\n",
       "      <td>76561197995146150</td>\n",
       "      <td>380</td>\n",
       "      <td>25209</td>\n",
       "      <td>Action</td>\n",
       "      <td>2006.0</td>\n",
       "    </tr>\n",
       "  </tbody>\n",
       "</table>\n",
       "</div>"
      ],
      "text/plain": [
       "  Genero            user_id  item_id  playtime_forever  genres  release_date\n",
       "0  1990s  76561197995146150       20              2124  Action        1999.0\n",
       "1  1990s  76561197995146150       70                 1  Action        1998.0\n",
       "2  1990s  76561197995146150      320                 8  Action        2004.0\n",
       "3  1990s  76561197995146150      340              3011  Action        2005.0\n",
       "4  1990s  76561197995146150      380             25209  Action        2006.0"
      ]
     },
     "execution_count": 58,
     "metadata": {},
     "output_type": "execute_result"
    }
   ],
   "source": [
    "print(len(df_f2_v6))\n",
    "print(df_f2_v6.isnull().sum())\n",
    "print(df_f2_v6.columns)\n",
    "df_f2_v6.head()"
   ]
  },
  {
   "cell_type": "code",
   "execution_count": 59,
   "metadata": {},
   "outputs": [],
   "source": [
    "df_f2_v7 = df_f2_v6.copy()"
   ]
  },
  {
   "cell_type": "code",
   "execution_count": 60,
   "metadata": {},
   "outputs": [],
   "source": [
    "# Remover los caracteres \"\n",
    "df_f2_v7['genres'] = df_f2_v7['genres'].str.replace('\"', '')\n",
    "\n",
    "# Reemplazar &amp; con NaN y luego propagar hacia adelante los valores no nulos\n",
    "df_f2_v7['genres'] = df_f2_v7['genres'].str.replace('&amp;', '&', regex=True)"
   ]
  },
  {
   "cell_type": "code",
   "execution_count": 61,
   "metadata": {},
   "outputs": [
    {
     "name": "stdout",
     "output_type": "stream",
     "text": [
      "78147\n",
      "Genero                 0\n",
      "user_id                0\n",
      "item_id                0\n",
      "playtime_forever       0\n",
      "genres              3898\n",
      "release_date        3898\n",
      "dtype: int64\n",
      "Index(['Genero', 'user_id', 'item_id', 'playtime_forever', 'genres',\n",
      "       'release_date'],\n",
      "      dtype='object')\n"
     ]
    },
    {
     "data": {
      "text/html": [
       "<div>\n",
       "<style scoped>\n",
       "    .dataframe tbody tr th:only-of-type {\n",
       "        vertical-align: middle;\n",
       "    }\n",
       "\n",
       "    .dataframe tbody tr th {\n",
       "        vertical-align: top;\n",
       "    }\n",
       "\n",
       "    .dataframe thead th {\n",
       "        text-align: right;\n",
       "    }\n",
       "</style>\n",
       "<table border=\"1\" class=\"dataframe\">\n",
       "  <thead>\n",
       "    <tr style=\"text-align: right;\">\n",
       "      <th></th>\n",
       "      <th>Genero</th>\n",
       "      <th>user_id</th>\n",
       "      <th>item_id</th>\n",
       "      <th>playtime_forever</th>\n",
       "      <th>genres</th>\n",
       "      <th>release_date</th>\n",
       "    </tr>\n",
       "  </thead>\n",
       "  <tbody>\n",
       "    <tr>\n",
       "      <th>0</th>\n",
       "      <td>1990s</td>\n",
       "      <td>76561197995146150</td>\n",
       "      <td>20</td>\n",
       "      <td>2124</td>\n",
       "      <td>Action</td>\n",
       "      <td>1999.0</td>\n",
       "    </tr>\n",
       "    <tr>\n",
       "      <th>1</th>\n",
       "      <td>1990s</td>\n",
       "      <td>76561197995146150</td>\n",
       "      <td>70</td>\n",
       "      <td>1</td>\n",
       "      <td>Action</td>\n",
       "      <td>1998.0</td>\n",
       "    </tr>\n",
       "    <tr>\n",
       "      <th>2</th>\n",
       "      <td>1990s</td>\n",
       "      <td>76561197995146150</td>\n",
       "      <td>320</td>\n",
       "      <td>8</td>\n",
       "      <td>Action</td>\n",
       "      <td>2004.0</td>\n",
       "    </tr>\n",
       "    <tr>\n",
       "      <th>3</th>\n",
       "      <td>1990s</td>\n",
       "      <td>76561197995146150</td>\n",
       "      <td>340</td>\n",
       "      <td>3011</td>\n",
       "      <td>Action</td>\n",
       "      <td>2005.0</td>\n",
       "    </tr>\n",
       "    <tr>\n",
       "      <th>4</th>\n",
       "      <td>1990s</td>\n",
       "      <td>76561197995146150</td>\n",
       "      <td>380</td>\n",
       "      <td>25209</td>\n",
       "      <td>Action</td>\n",
       "      <td>2006.0</td>\n",
       "    </tr>\n",
       "  </tbody>\n",
       "</table>\n",
       "</div>"
      ],
      "text/plain": [
       "  Genero            user_id  item_id  playtime_forever  genres  release_date\n",
       "0  1990s  76561197995146150       20              2124  Action        1999.0\n",
       "1  1990s  76561197995146150       70                 1  Action        1998.0\n",
       "2  1990s  76561197995146150      320                 8  Action        2004.0\n",
       "3  1990s  76561197995146150      340              3011  Action        2005.0\n",
       "4  1990s  76561197995146150      380             25209  Action        2006.0"
      ]
     },
     "execution_count": 61,
     "metadata": {},
     "output_type": "execute_result"
    }
   ],
   "source": [
    "print(len(df_f2_v7))\n",
    "print(df_f2_v7.isnull().sum())\n",
    "print(df_f2_v7.columns)\n",
    "df_f2_v7.head()"
   ]
  },
  {
   "cell_type": "code",
   "execution_count": 62,
   "metadata": {},
   "outputs": [],
   "source": [
    "df_f2_v8 = df_f2_v7[df_f2_v7['Genero'] == df_f2_v7['genres']]"
   ]
  },
  {
   "cell_type": "code",
   "execution_count": 63,
   "metadata": {},
   "outputs": [
    {
     "name": "stdout",
     "output_type": "stream",
     "text": [
      "2041\n",
      "Genero              0\n",
      "user_id             0\n",
      "item_id             0\n",
      "playtime_forever    0\n",
      "genres              0\n",
      "release_date        0\n",
      "dtype: int64\n",
      "Index(['Genero', 'user_id', 'item_id', 'playtime_forever', 'genres',\n",
      "       'release_date'],\n",
      "      dtype='object')\n"
     ]
    },
    {
     "data": {
      "text/html": [
       "<div>\n",
       "<style scoped>\n",
       "    .dataframe tbody tr th:only-of-type {\n",
       "        vertical-align: middle;\n",
       "    }\n",
       "\n",
       "    .dataframe tbody tr th {\n",
       "        vertical-align: top;\n",
       "    }\n",
       "\n",
       "    .dataframe thead th {\n",
       "        text-align: right;\n",
       "    }\n",
       "</style>\n",
       "<table border=\"1\" class=\"dataframe\">\n",
       "  <thead>\n",
       "    <tr style=\"text-align: right;\">\n",
       "      <th></th>\n",
       "      <th>Genero</th>\n",
       "      <th>user_id</th>\n",
       "      <th>item_id</th>\n",
       "      <th>playtime_forever</th>\n",
       "      <th>genres</th>\n",
       "      <th>release_date</th>\n",
       "    </tr>\n",
       "  </thead>\n",
       "  <tbody>\n",
       "    <tr>\n",
       "      <th>41</th>\n",
       "      <td>1990s</td>\n",
       "      <td>76561197995146150</td>\n",
       "      <td>71250</td>\n",
       "      <td>15820</td>\n",
       "      <td>1990s</td>\n",
       "      <td>2011.0</td>\n",
       "    </tr>\n",
       "    <tr>\n",
       "      <th>66</th>\n",
       "      <td>1990s</td>\n",
       "      <td>76561197995146150</td>\n",
       "      <td>200940</td>\n",
       "      <td>122</td>\n",
       "      <td>1990s</td>\n",
       "      <td>2012.0</td>\n",
       "    </tr>\n",
       "    <tr>\n",
       "      <th>178</th>\n",
       "      <td>3D Platformer</td>\n",
       "      <td>76561197995146150</td>\n",
       "      <td>71250</td>\n",
       "      <td>15820</td>\n",
       "      <td>3D Platformer</td>\n",
       "      <td>2011.0</td>\n",
       "    </tr>\n",
       "    <tr>\n",
       "      <th>348</th>\n",
       "      <td>Anime</td>\n",
       "      <td>76561197995146150</td>\n",
       "      <td>71250</td>\n",
       "      <td>15820</td>\n",
       "      <td>Anime</td>\n",
       "      <td>2011.0</td>\n",
       "    </tr>\n",
       "    <tr>\n",
       "      <th>382</th>\n",
       "      <td>Anime</td>\n",
       "      <td>76561197995146150</td>\n",
       "      <td>200940</td>\n",
       "      <td>122</td>\n",
       "      <td>Anime</td>\n",
       "      <td>2012.0</td>\n",
       "    </tr>\n",
       "  </tbody>\n",
       "</table>\n",
       "</div>"
      ],
      "text/plain": [
       "            Genero            user_id  item_id  playtime_forever  \\\n",
       "41           1990s  76561197995146150    71250             15820   \n",
       "66           1990s  76561197995146150   200940               122   \n",
       "178  3D Platformer  76561197995146150    71250             15820   \n",
       "348          Anime  76561197995146150    71250             15820   \n",
       "382          Anime  76561197995146150   200940               122   \n",
       "\n",
       "            genres  release_date  \n",
       "41           1990s        2011.0  \n",
       "66           1990s        2012.0  \n",
       "178  3D Platformer        2011.0  \n",
       "348          Anime        2011.0  \n",
       "382          Anime        2012.0  "
      ]
     },
     "execution_count": 63,
     "metadata": {},
     "output_type": "execute_result"
    }
   ],
   "source": [
    "print(len(df_f2_v8))\n",
    "print(df_f2_v8.isnull().sum())\n",
    "print(df_f2_v8.columns)\n",
    "df_f2_v8.head()"
   ]
  },
  {
   "cell_type": "code",
   "execution_count": 64,
   "metadata": {},
   "outputs": [
    {
     "name": "stdout",
     "output_type": "stream",
     "text": [
      "130\n",
      "Genero      0\n",
      "usuario     0\n",
      "Playtime    0\n",
      "dtype: int64\n",
      "Index(['Genero', 'usuario', 'Playtime'], dtype='object')\n"
     ]
    },
    {
     "data": {
      "text/html": [
       "<div>\n",
       "<style scoped>\n",
       "    .dataframe tbody tr th:only-of-type {\n",
       "        vertical-align: middle;\n",
       "    }\n",
       "\n",
       "    .dataframe tbody tr th {\n",
       "        vertical-align: top;\n",
       "    }\n",
       "\n",
       "    .dataframe thead th {\n",
       "        text-align: right;\n",
       "    }\n",
       "</style>\n",
       "<table border=\"1\" class=\"dataframe\">\n",
       "  <thead>\n",
       "    <tr style=\"text-align: right;\">\n",
       "      <th></th>\n",
       "      <th>Genero</th>\n",
       "      <th>usuario</th>\n",
       "      <th>Playtime</th>\n",
       "    </tr>\n",
       "  </thead>\n",
       "  <tbody>\n",
       "    <tr>\n",
       "      <th>0</th>\n",
       "      <td>1990s</td>\n",
       "      <td>76561197995146150</td>\n",
       "      <td>15942</td>\n",
       "    </tr>\n",
       "    <tr>\n",
       "      <th>1</th>\n",
       "      <td>1980s</td>\n",
       "      <td>76561198042170355</td>\n",
       "      <td>10467</td>\n",
       "    </tr>\n",
       "    <tr>\n",
       "      <th>2</th>\n",
       "      <td>2D</td>\n",
       "      <td>76561198083612270</td>\n",
       "      <td>24664</td>\n",
       "    </tr>\n",
       "    <tr>\n",
       "      <th>3</th>\n",
       "      <td>3D Platformer</td>\n",
       "      <td>76561197995146150</td>\n",
       "      <td>15820</td>\n",
       "    </tr>\n",
       "    <tr>\n",
       "      <th>4</th>\n",
       "      <td>Action</td>\n",
       "      <td>Sp3ctre</td>\n",
       "      <td>1697651</td>\n",
       "    </tr>\n",
       "  </tbody>\n",
       "</table>\n",
       "</div>"
      ],
      "text/plain": [
       "          Genero            usuario  Playtime\n",
       "0          1990s  76561197995146150     15942\n",
       "1          1980s  76561198042170355     10467\n",
       "2             2D  76561198083612270     24664\n",
       "3  3D Platformer  76561197995146150     15820\n",
       "4         Action            Sp3ctre   1697651"
      ]
     },
     "execution_count": 64,
     "metadata": {},
     "output_type": "execute_result"
    }
   ],
   "source": [
    "print(len(df_f2_v2))\n",
    "print(df_f2_v2.isnull().sum())\n",
    "print(df_f2_v2.columns)\n",
    "df_f2_v2.head()"
   ]
  },
  {
   "cell_type": "code",
   "execution_count": 65,
   "metadata": {},
   "outputs": [
    {
     "data": {
      "text/html": [
       "<div>\n",
       "<style scoped>\n",
       "    .dataframe tbody tr th:only-of-type {\n",
       "        vertical-align: middle;\n",
       "    }\n",
       "\n",
       "    .dataframe tbody tr th {\n",
       "        vertical-align: top;\n",
       "    }\n",
       "\n",
       "    .dataframe thead th {\n",
       "        text-align: right;\n",
       "    }\n",
       "</style>\n",
       "<table border=\"1\" class=\"dataframe\">\n",
       "  <thead>\n",
       "    <tr style=\"text-align: right;\">\n",
       "      <th></th>\n",
       "      <th>Genero</th>\n",
       "      <th>user_id</th>\n",
       "      <th>item_id</th>\n",
       "      <th>playtime_forever</th>\n",
       "      <th>genres</th>\n",
       "      <th>release_date</th>\n",
       "    </tr>\n",
       "  </thead>\n",
       "  <tbody>\n",
       "    <tr>\n",
       "      <th>41</th>\n",
       "      <td>1990s</td>\n",
       "      <td>76561197995146150</td>\n",
       "      <td>71250</td>\n",
       "      <td>15820</td>\n",
       "      <td>1990s</td>\n",
       "      <td>2011.0</td>\n",
       "    </tr>\n",
       "    <tr>\n",
       "      <th>66</th>\n",
       "      <td>1990s</td>\n",
       "      <td>76561197995146150</td>\n",
       "      <td>200940</td>\n",
       "      <td>122</td>\n",
       "      <td>1990s</td>\n",
       "      <td>2012.0</td>\n",
       "    </tr>\n",
       "    <tr>\n",
       "      <th>178</th>\n",
       "      <td>3D Platformer</td>\n",
       "      <td>76561197995146150</td>\n",
       "      <td>71250</td>\n",
       "      <td>15820</td>\n",
       "      <td>3D Platformer</td>\n",
       "      <td>2011.0</td>\n",
       "    </tr>\n",
       "    <tr>\n",
       "      <th>348</th>\n",
       "      <td>Anime</td>\n",
       "      <td>76561197995146150</td>\n",
       "      <td>71250</td>\n",
       "      <td>15820</td>\n",
       "      <td>Anime</td>\n",
       "      <td>2011.0</td>\n",
       "    </tr>\n",
       "    <tr>\n",
       "      <th>382</th>\n",
       "      <td>Anime</td>\n",
       "      <td>76561197995146150</td>\n",
       "      <td>200940</td>\n",
       "      <td>122</td>\n",
       "      <td>Anime</td>\n",
       "      <td>2012.0</td>\n",
       "    </tr>\n",
       "    <tr>\n",
       "      <th>...</th>\n",
       "      <td>...</td>\n",
       "      <td>...</td>\n",
       "      <td>...</td>\n",
       "      <td>...</td>\n",
       "      <td>...</td>\n",
       "      <td>...</td>\n",
       "    </tr>\n",
       "    <tr>\n",
       "      <th>77636</th>\n",
       "      <td>Utilities</td>\n",
       "      <td>76561198073642113</td>\n",
       "      <td>268850</td>\n",
       "      <td>207651</td>\n",
       "      <td>Utilities</td>\n",
       "      <td>2014.0</td>\n",
       "    </tr>\n",
       "    <tr>\n",
       "      <th>77845</th>\n",
       "      <td>Walking Simulator</td>\n",
       "      <td>76561198049268659</td>\n",
       "      <td>371240</td>\n",
       "      <td>2</td>\n",
       "      <td>Walking Simulator</td>\n",
       "      <td>2015.0</td>\n",
       "    </tr>\n",
       "    <tr>\n",
       "      <th>77939</th>\n",
       "      <td>Web Publishing</td>\n",
       "      <td>Xyphien</td>\n",
       "      <td>220700</td>\n",
       "      <td>64657</td>\n",
       "      <td>Web Publishing</td>\n",
       "      <td>2012.0</td>\n",
       "    </tr>\n",
       "    <tr>\n",
       "      <th>78023</th>\n",
       "      <td>Web Publishing</td>\n",
       "      <td>Xyphien</td>\n",
       "      <td>235900</td>\n",
       "      <td>7296</td>\n",
       "      <td>Web Publishing</td>\n",
       "      <td>2005.0</td>\n",
       "    </tr>\n",
       "    <tr>\n",
       "      <th>78112</th>\n",
       "      <td>Web Publishing</td>\n",
       "      <td>Xyphien</td>\n",
       "      <td>363890</td>\n",
       "      <td>71011</td>\n",
       "      <td>Web Publishing</td>\n",
       "      <td>2015.0</td>\n",
       "    </tr>\n",
       "  </tbody>\n",
       "</table>\n",
       "<p>2041 rows × 6 columns</p>\n",
       "</div>"
      ],
      "text/plain": [
       "                  Genero            user_id item_id playtime_forever  \\\n",
       "41                 1990s  76561197995146150   71250            15820   \n",
       "66                 1990s  76561197995146150  200940              122   \n",
       "178        3D Platformer  76561197995146150   71250            15820   \n",
       "348                Anime  76561197995146150   71250            15820   \n",
       "382                Anime  76561197995146150  200940              122   \n",
       "...                  ...                ...     ...              ...   \n",
       "77636          Utilities  76561198073642113  268850           207651   \n",
       "77845  Walking Simulator  76561198049268659  371240                2   \n",
       "77939     Web Publishing            Xyphien  220700            64657   \n",
       "78023     Web Publishing            Xyphien  235900             7296   \n",
       "78112     Web Publishing            Xyphien  363890            71011   \n",
       "\n",
       "                  genres release_date  \n",
       "41                 1990s       2011.0  \n",
       "66                 1990s       2012.0  \n",
       "178        3D Platformer       2011.0  \n",
       "348                Anime       2011.0  \n",
       "382                Anime       2012.0  \n",
       "...                  ...          ...  \n",
       "77636          Utilities       2014.0  \n",
       "77845  Walking Simulator       2015.0  \n",
       "77939     Web Publishing       2012.0  \n",
       "78023     Web Publishing       2005.0  \n",
       "78112     Web Publishing       2015.0  \n",
       "\n",
       "[2041 rows x 6 columns]"
      ]
     },
     "execution_count": 65,
     "metadata": {},
     "output_type": "execute_result"
    }
   ],
   "source": [
    "df_f2_v2.astype(str)\n",
    "df_f2_v8.astype(str)"
   ]
  },
  {
   "cell_type": "code",
   "execution_count": 66,
   "metadata": {},
   "outputs": [],
   "source": [
    "df_f2_v2_2 = df_f2_v2.copy()"
   ]
  },
  {
   "cell_type": "code",
   "execution_count": 67,
   "metadata": {},
   "outputs": [],
   "source": [
    "# Función para filtrar df_f2_v8 según los valores de df_f2_v2\n",
    "def filter_dataframe(row):\n",
    "    filtered_rows = df_f2_v8[\n",
    "        (df_f2_v8['Genero'] == row['Genero']) &\n",
    "        (df_f2_v8['user_id'] == row['usuario'])\n",
    "    ]\n",
    "    return filtered_rows"
   ]
  },
  {
   "cell_type": "code",
   "execution_count": 68,
   "metadata": {},
   "outputs": [],
   "source": [
    "# Aplicar la función por filas de df_f2_v2\n",
    "filtered_rows = df_f2_v2_2.apply(filter_dataframe, axis=1)"
   ]
  },
  {
   "cell_type": "code",
   "execution_count": 69,
   "metadata": {},
   "outputs": [],
   "source": [
    "# Concatenar las listas de DataFrames resultantes\n",
    "df_f2_v10 = pd.concat(filtered_rows.tolist(), ignore_index=True)"
   ]
  },
  {
   "cell_type": "code",
   "execution_count": 70,
   "metadata": {},
   "outputs": [
    {
     "name": "stdout",
     "output_type": "stream",
     "text": [
      "2041\n",
      "Genero              0\n",
      "user_id             0\n",
      "item_id             0\n",
      "playtime_forever    0\n",
      "genres              0\n",
      "release_date        0\n",
      "dtype: int64\n",
      "Index(['Genero', 'user_id', 'item_id', 'playtime_forever', 'genres',\n",
      "       'release_date'],\n",
      "      dtype='object')\n"
     ]
    },
    {
     "data": {
      "text/html": [
       "<div>\n",
       "<style scoped>\n",
       "    .dataframe tbody tr th:only-of-type {\n",
       "        vertical-align: middle;\n",
       "    }\n",
       "\n",
       "    .dataframe tbody tr th {\n",
       "        vertical-align: top;\n",
       "    }\n",
       "\n",
       "    .dataframe thead th {\n",
       "        text-align: right;\n",
       "    }\n",
       "</style>\n",
       "<table border=\"1\" class=\"dataframe\">\n",
       "  <thead>\n",
       "    <tr style=\"text-align: right;\">\n",
       "      <th></th>\n",
       "      <th>Genero</th>\n",
       "      <th>user_id</th>\n",
       "      <th>item_id</th>\n",
       "      <th>playtime_forever</th>\n",
       "      <th>genres</th>\n",
       "      <th>release_date</th>\n",
       "    </tr>\n",
       "  </thead>\n",
       "  <tbody>\n",
       "    <tr>\n",
       "      <th>0</th>\n",
       "      <td>1990s</td>\n",
       "      <td>76561197995146150</td>\n",
       "      <td>71250</td>\n",
       "      <td>15820</td>\n",
       "      <td>1990s</td>\n",
       "      <td>2011.0</td>\n",
       "    </tr>\n",
       "    <tr>\n",
       "      <th>1</th>\n",
       "      <td>1990s</td>\n",
       "      <td>76561197995146150</td>\n",
       "      <td>200940</td>\n",
       "      <td>122</td>\n",
       "      <td>1990s</td>\n",
       "      <td>2012.0</td>\n",
       "    </tr>\n",
       "    <tr>\n",
       "      <th>2</th>\n",
       "      <td>1980s</td>\n",
       "      <td>76561198042170355</td>\n",
       "      <td>374570</td>\n",
       "      <td>10467</td>\n",
       "      <td>1980s</td>\n",
       "      <td>2015.0</td>\n",
       "    </tr>\n",
       "    <tr>\n",
       "      <th>3</th>\n",
       "      <td>2D</td>\n",
       "      <td>76561198083612270</td>\n",
       "      <td>200940</td>\n",
       "      <td>117</td>\n",
       "      <td>2D</td>\n",
       "      <td>2012.0</td>\n",
       "    </tr>\n",
       "    <tr>\n",
       "      <th>4</th>\n",
       "      <td>2D</td>\n",
       "      <td>76561198083612270</td>\n",
       "      <td>202530</td>\n",
       "      <td>24547</td>\n",
       "      <td>2D</td>\n",
       "      <td>2012.0</td>\n",
       "    </tr>\n",
       "  </tbody>\n",
       "</table>\n",
       "</div>"
      ],
      "text/plain": [
       "  Genero            user_id  item_id  playtime_forever genres  release_date\n",
       "0  1990s  76561197995146150    71250             15820  1990s        2011.0\n",
       "1  1990s  76561197995146150   200940               122  1990s        2012.0\n",
       "2  1980s  76561198042170355   374570             10467  1980s        2015.0\n",
       "3     2D  76561198083612270   200940               117     2D        2012.0\n",
       "4     2D  76561198083612270   202530             24547     2D        2012.0"
      ]
     },
     "execution_count": 70,
     "metadata": {},
     "output_type": "execute_result"
    }
   ],
   "source": [
    "print(len(df_f2_v10))\n",
    "print(df_f2_v10.isnull().sum())\n",
    "print(df_f2_v10.columns)\n",
    "df_f2_v10.head()"
   ]
  },
  {
   "cell_type": "code",
   "execution_count": 71,
   "metadata": {},
   "outputs": [],
   "source": [
    "def create_message(group):\n",
    "    mensaje = f\"Usuario con más horas jugadas para Género {group['Genero'].iloc[0]} : {group['user_id'].iloc[0]}, Horas jugadas: año {group['release_date'].iloc[0]}, {group['playtime_forever'].iloc[0]}\"\n",
    "\n",
    "    if len(group) > 1:\n",
    "        for i in range(1, len(group)):\n",
    "            mensaje += f\", año {group['release_date'].iloc[i]}, {group['playtime_forever'].iloc[i]}\"\n",
    "    return mensaje"
   ]
  },
  {
   "cell_type": "code",
   "execution_count": 72,
   "metadata": {},
   "outputs": [],
   "source": [
    "df_f2_v11 = df_f2_v10.groupby('Genero').apply(create_message).reset_index(name='mensaje')\n"
   ]
  },
  {
   "cell_type": "code",
   "execution_count": 73,
   "metadata": {},
   "outputs": [
    {
     "name": "stdout",
     "output_type": "stream",
     "text": [
      "122\n",
      "Genero     0\n",
      "mensaje    0\n",
      "dtype: int64\n",
      "Index(['Genero', 'mensaje'], dtype='object')\n"
     ]
    },
    {
     "data": {
      "text/html": [
       "<div>\n",
       "<style scoped>\n",
       "    .dataframe tbody tr th:only-of-type {\n",
       "        vertical-align: middle;\n",
       "    }\n",
       "\n",
       "    .dataframe tbody tr th {\n",
       "        vertical-align: top;\n",
       "    }\n",
       "\n",
       "    .dataframe thead th {\n",
       "        text-align: right;\n",
       "    }\n",
       "</style>\n",
       "<table border=\"1\" class=\"dataframe\">\n",
       "  <thead>\n",
       "    <tr style=\"text-align: right;\">\n",
       "      <th></th>\n",
       "      <th>Genero</th>\n",
       "      <th>mensaje</th>\n",
       "    </tr>\n",
       "  </thead>\n",
       "  <tbody>\n",
       "    <tr>\n",
       "      <th>0</th>\n",
       "      <td>1980s</td>\n",
       "      <td>Usuario con más horas jugadas para Género 1980...</td>\n",
       "    </tr>\n",
       "    <tr>\n",
       "      <th>1</th>\n",
       "      <td>1990s</td>\n",
       "      <td>Usuario con más horas jugadas para Género 1990...</td>\n",
       "    </tr>\n",
       "    <tr>\n",
       "      <th>2</th>\n",
       "      <td>2D</td>\n",
       "      <td>Usuario con más horas jugadas para Género 2D :...</td>\n",
       "    </tr>\n",
       "    <tr>\n",
       "      <th>3</th>\n",
       "      <td>3D Platformer</td>\n",
       "      <td>Usuario con más horas jugadas para Género 3D P...</td>\n",
       "    </tr>\n",
       "    <tr>\n",
       "      <th>4</th>\n",
       "      <td>Action</td>\n",
       "      <td>Usuario con más horas jugadas para Género Acti...</td>\n",
       "    </tr>\n",
       "  </tbody>\n",
       "</table>\n",
       "</div>"
      ],
      "text/plain": [
       "          Genero                                            mensaje\n",
       "0          1980s  Usuario con más horas jugadas para Género 1980...\n",
       "1          1990s  Usuario con más horas jugadas para Género 1990...\n",
       "2             2D  Usuario con más horas jugadas para Género 2D :...\n",
       "3  3D Platformer  Usuario con más horas jugadas para Género 3D P...\n",
       "4         Action  Usuario con más horas jugadas para Género Acti..."
      ]
     },
     "execution_count": 73,
     "metadata": {},
     "output_type": "execute_result"
    }
   ],
   "source": [
    "print(len(df_f2_v11))\n",
    "print(df_f2_v11.isnull().sum())\n",
    "print(df_f2_v11.columns)\n",
    "df_f2_v11.head()"
   ]
  },
  {
   "cell_type": "code",
   "execution_count": 556,
   "metadata": {},
   "outputs": [],
   "source": [
    "df_f2_v11.to_csv('Data\\Endpoints\\Endpoint_2.csv', index=False)"
   ]
  },
  {
   "cell_type": "markdown",
   "metadata": {},
   "source": [
    "# Endpoint 3"
   ]
  },
  {
   "cell_type": "code",
   "execution_count": 74,
   "metadata": {},
   "outputs": [],
   "source": [
    "df_f3_v1 = pd.read_csv('Data\\data_NLPM_2.csv')"
   ]
  },
  {
   "cell_type": "code",
   "execution_count": 75,
   "metadata": {},
   "outputs": [
    {
     "data": {
      "text/html": [
       "<div>\n",
       "<style scoped>\n",
       "    .dataframe tbody tr th:only-of-type {\n",
       "        vertical-align: middle;\n",
       "    }\n",
       "\n",
       "    .dataframe tbody tr th {\n",
       "        vertical-align: top;\n",
       "    }\n",
       "\n",
       "    .dataframe thead th {\n",
       "        text-align: right;\n",
       "    }\n",
       "</style>\n",
       "<table border=\"1\" class=\"dataframe\">\n",
       "  <thead>\n",
       "    <tr style=\"text-align: right;\">\n",
       "      <th></th>\n",
       "      <th>posted</th>\n",
       "      <th>item_id</th>\n",
       "      <th>recommend</th>\n",
       "      <th>user_id</th>\n",
       "      <th>sentiment</th>\n",
       "    </tr>\n",
       "  </thead>\n",
       "  <tbody>\n",
       "    <tr>\n",
       "      <th>0</th>\n",
       "      <td>2011</td>\n",
       "      <td>1250</td>\n",
       "      <td>1</td>\n",
       "      <td>76561197970982479</td>\n",
       "      <td>1.0</td>\n",
       "    </tr>\n",
       "    <tr>\n",
       "      <th>1</th>\n",
       "      <td>2011</td>\n",
       "      <td>22200</td>\n",
       "      <td>1</td>\n",
       "      <td>76561197970982479</td>\n",
       "      <td>1.0</td>\n",
       "    </tr>\n",
       "    <tr>\n",
       "      <th>2</th>\n",
       "      <td>2011</td>\n",
       "      <td>43110</td>\n",
       "      <td>1</td>\n",
       "      <td>76561197970982479</td>\n",
       "      <td>1.0</td>\n",
       "    </tr>\n",
       "    <tr>\n",
       "      <th>3</th>\n",
       "      <td>2014</td>\n",
       "      <td>251610</td>\n",
       "      <td>1</td>\n",
       "      <td>js41637</td>\n",
       "      <td>1.0</td>\n",
       "    </tr>\n",
       "    <tr>\n",
       "      <th>4</th>\n",
       "      <td>2013</td>\n",
       "      <td>227300</td>\n",
       "      <td>1</td>\n",
       "      <td>js41637</td>\n",
       "      <td>-1.0</td>\n",
       "    </tr>\n",
       "  </tbody>\n",
       "</table>\n",
       "</div>"
      ],
      "text/plain": [
       "   posted  item_id  recommend            user_id  sentiment\n",
       "0    2011     1250          1  76561197970982479        1.0\n",
       "1    2011    22200          1  76561197970982479        1.0\n",
       "2    2011    43110          1  76561197970982479        1.0\n",
       "3    2014   251610          1            js41637        1.0\n",
       "4    2013   227300          1            js41637       -1.0"
      ]
     },
     "execution_count": 75,
     "metadata": {},
     "output_type": "execute_result"
    }
   ],
   "source": [
    "df_f3_v1.head()"
   ]
  },
  {
   "cell_type": "code",
   "execution_count": 76,
   "metadata": {},
   "outputs": [],
   "source": [
    "# Agrupar por año ('posted') y juego ('item_id'), sumando las columnas 'recommend' y 'sentiment'\n",
    "\n",
    "grouped = df_f3_v1.groupby(['posted', 'item_id']).agg({'recommend': 'sum', 'sentiment': 'sum'}).reset_index()\n",
    "\n",
    "# Calcular la suma total de 'recommend' y 'sentiment' para cada juego, ordenar y obtener los tres juegos con mayores sumas\n",
    "\n",
    "df_f3_v2 = (\n",
    "    grouped.groupby('posted')\n",
    "    .apply(lambda x: x.nlargest(3, columns=['recommend', 'sentiment']))\n",
    "    .reset_index(drop=True)\n",
    ")"
   ]
  },
  {
   "cell_type": "code",
   "execution_count": 77,
   "metadata": {},
   "outputs": [
    {
     "name": "stdout",
     "output_type": "stream",
     "text": [
      "18\n"
     ]
    },
    {
     "data": {
      "text/html": [
       "<div>\n",
       "<style scoped>\n",
       "    .dataframe tbody tr th:only-of-type {\n",
       "        vertical-align: middle;\n",
       "    }\n",
       "\n",
       "    .dataframe tbody tr th {\n",
       "        vertical-align: top;\n",
       "    }\n",
       "\n",
       "    .dataframe thead th {\n",
       "        text-align: right;\n",
       "    }\n",
       "</style>\n",
       "<table border=\"1\" class=\"dataframe\">\n",
       "  <thead>\n",
       "    <tr style=\"text-align: right;\">\n",
       "      <th></th>\n",
       "      <th>posted</th>\n",
       "      <th>item_id</th>\n",
       "      <th>recommend</th>\n",
       "      <th>sentiment</th>\n",
       "    </tr>\n",
       "  </thead>\n",
       "  <tbody>\n",
       "    <tr>\n",
       "      <th>0</th>\n",
       "      <td>2010</td>\n",
       "      <td>440</td>\n",
       "      <td>10</td>\n",
       "      <td>9.0</td>\n",
       "    </tr>\n",
       "    <tr>\n",
       "      <th>1</th>\n",
       "      <td>2010</td>\n",
       "      <td>1250</td>\n",
       "      <td>6</td>\n",
       "      <td>5.0</td>\n",
       "    </tr>\n",
       "    <tr>\n",
       "      <th>2</th>\n",
       "      <td>2010</td>\n",
       "      <td>630</td>\n",
       "      <td>4</td>\n",
       "      <td>3.0</td>\n",
       "    </tr>\n",
       "    <tr>\n",
       "      <th>3</th>\n",
       "      <td>2011</td>\n",
       "      <td>440</td>\n",
       "      <td>79</td>\n",
       "      <td>36.0</td>\n",
       "    </tr>\n",
       "    <tr>\n",
       "      <th>4</th>\n",
       "      <td>2011</td>\n",
       "      <td>620</td>\n",
       "      <td>26</td>\n",
       "      <td>19.0</td>\n",
       "    </tr>\n",
       "  </tbody>\n",
       "</table>\n",
       "</div>"
      ],
      "text/plain": [
       "   posted  item_id  recommend  sentiment\n",
       "0    2010      440         10        9.0\n",
       "1    2010     1250          6        5.0\n",
       "2    2010      630          4        3.0\n",
       "3    2011      440         79       36.0\n",
       "4    2011      620         26       19.0"
      ]
     },
     "execution_count": 77,
     "metadata": {},
     "output_type": "execute_result"
    }
   ],
   "source": [
    "print(len(df_f3_v2))\n",
    "df_f3_v2.head()"
   ]
  },
  {
   "cell_type": "code",
   "execution_count": 78,
   "metadata": {},
   "outputs": [],
   "source": [
    "df_f3_v3 = df_f3_v2.copy()"
   ]
  },
  {
   "cell_type": "code",
   "execution_count": 85,
   "metadata": {},
   "outputs": [],
   "source": [
    "df_f3_MLM_v1 = pd.read_csv('Data\\data_MLM_1.csv')  \n",
    " "
   ]
  },
  {
   "cell_type": "code",
   "execution_count": 89,
   "metadata": {},
   "outputs": [],
   "source": [
    "# Se unen los DataFrames df_sg_anid y df_NPLM_top3 por las columnas id e item_id respectivamente y \n",
    "# se filtran df_sg_anid por las filas que coincidan con los valores de item_id en df_NPLM_top3\n",
    "\n",
    "filtered_df_f3_MLM_v1 = df_f3_MLM_v1[df_f3_MLM_v1['id'].isin(df_f3_v3['item_id'])]"
   ]
  },
  {
   "cell_type": "code",
   "execution_count": 90,
   "metadata": {},
   "outputs": [
    {
     "data": {
      "text/html": [
       "<div>\n",
       "<style scoped>\n",
       "    .dataframe tbody tr th:only-of-type {\n",
       "        vertical-align: middle;\n",
       "    }\n",
       "\n",
       "    .dataframe tbody tr th {\n",
       "        vertical-align: top;\n",
       "    }\n",
       "\n",
       "    .dataframe thead th {\n",
       "        text-align: right;\n",
       "    }\n",
       "</style>\n",
       "<table border=\"1\" class=\"dataframe\">\n",
       "  <thead>\n",
       "    <tr style=\"text-align: right;\">\n",
       "      <th></th>\n",
       "      <th>app_name</th>\n",
       "      <th>id</th>\n",
       "    </tr>\n",
       "  </thead>\n",
       "  <tbody>\n",
       "    <tr>\n",
       "      <th>58</th>\n",
       "      <td>Garry's Mod</td>\n",
       "      <td>4000</td>\n",
       "    </tr>\n",
       "    <tr>\n",
       "      <th>441</th>\n",
       "      <td>Alien Swarm</td>\n",
       "      <td>630</td>\n",
       "    </tr>\n",
       "    <tr>\n",
       "      <th>631</th>\n",
       "      <td>Portal 2</td>\n",
       "      <td>620</td>\n",
       "    </tr>\n",
       "    <tr>\n",
       "      <th>1044</th>\n",
       "      <td>Counter-Strike: Global Offensive</td>\n",
       "      <td>730</td>\n",
       "    </tr>\n",
       "    <tr>\n",
       "      <th>1461</th>\n",
       "      <td>Dota 2</td>\n",
       "      <td>570</td>\n",
       "    </tr>\n",
       "  </tbody>\n",
       "</table>\n",
       "</div>"
      ],
      "text/plain": [
       "                              app_name    id\n",
       "58                         Garry's Mod  4000\n",
       "441                        Alien Swarm   630\n",
       "631                           Portal 2   620\n",
       "1044  Counter-Strike: Global Offensive   730\n",
       "1461                            Dota 2   570"
      ]
     },
     "execution_count": 90,
     "metadata": {},
     "output_type": "execute_result"
    }
   ],
   "source": [
    "filtered_df_f3_MLM_v1.head()"
   ]
  },
  {
   "cell_type": "code",
   "execution_count": 91,
   "metadata": {},
   "outputs": [],
   "source": [
    "# Realizar el merge entre df_NPLM_top3 y filtered_df_sg_anid utilizando item_id y id respectivamente\n",
    "\n",
    "df_final_v1 = pd.merge(df_f3_v3, filtered_df_f3_MLM_v1, left_on='item_id', right_on='id', how='inner')"
   ]
  },
  {
   "cell_type": "code",
   "execution_count": 92,
   "metadata": {},
   "outputs": [
    {
     "data": {
      "text/html": [
       "<div>\n",
       "<style scoped>\n",
       "    .dataframe tbody tr th:only-of-type {\n",
       "        vertical-align: middle;\n",
       "    }\n",
       "\n",
       "    .dataframe tbody tr th {\n",
       "        vertical-align: top;\n",
       "    }\n",
       "\n",
       "    .dataframe thead th {\n",
       "        text-align: right;\n",
       "    }\n",
       "</style>\n",
       "<table border=\"1\" class=\"dataframe\">\n",
       "  <thead>\n",
       "    <tr style=\"text-align: right;\">\n",
       "      <th></th>\n",
       "      <th>posted</th>\n",
       "      <th>item_id</th>\n",
       "      <th>recommend</th>\n",
       "      <th>sentiment</th>\n",
       "      <th>app_name</th>\n",
       "      <th>id</th>\n",
       "    </tr>\n",
       "  </thead>\n",
       "  <tbody>\n",
       "    <tr>\n",
       "      <th>0</th>\n",
       "      <td>2010</td>\n",
       "      <td>440</td>\n",
       "      <td>10</td>\n",
       "      <td>9.0</td>\n",
       "      <td>Team Fortress 2</td>\n",
       "      <td>440</td>\n",
       "    </tr>\n",
       "    <tr>\n",
       "      <th>1</th>\n",
       "      <td>2011</td>\n",
       "      <td>440</td>\n",
       "      <td>79</td>\n",
       "      <td>36.0</td>\n",
       "      <td>Team Fortress 2</td>\n",
       "      <td>440</td>\n",
       "    </tr>\n",
       "    <tr>\n",
       "      <th>2</th>\n",
       "      <td>2012</td>\n",
       "      <td>440</td>\n",
       "      <td>268</td>\n",
       "      <td>125.0</td>\n",
       "      <td>Team Fortress 2</td>\n",
       "      <td>440</td>\n",
       "    </tr>\n",
       "    <tr>\n",
       "      <th>3</th>\n",
       "      <td>2013</td>\n",
       "      <td>440</td>\n",
       "      <td>798</td>\n",
       "      <td>410.0</td>\n",
       "      <td>Team Fortress 2</td>\n",
       "      <td>440</td>\n",
       "    </tr>\n",
       "    <tr>\n",
       "      <th>4</th>\n",
       "      <td>2014</td>\n",
       "      <td>440</td>\n",
       "      <td>1564</td>\n",
       "      <td>710.0</td>\n",
       "      <td>Team Fortress 2</td>\n",
       "      <td>440</td>\n",
       "    </tr>\n",
       "  </tbody>\n",
       "</table>\n",
       "</div>"
      ],
      "text/plain": [
       "   posted  item_id  recommend  sentiment         app_name   id\n",
       "0    2010      440         10        9.0  Team Fortress 2  440\n",
       "1    2011      440         79       36.0  Team Fortress 2  440\n",
       "2    2012      440        268      125.0  Team Fortress 2  440\n",
       "3    2013      440        798      410.0  Team Fortress 2  440\n",
       "4    2014      440       1564      710.0  Team Fortress 2  440"
      ]
     },
     "execution_count": 92,
     "metadata": {},
     "output_type": "execute_result"
    }
   ],
   "source": [
    "df_final_v1.head()"
   ]
  },
  {
   "cell_type": "code",
   "execution_count": 93,
   "metadata": {},
   "outputs": [
    {
     "name": "stdout",
     "output_type": "stream",
     "text": [
      "18\n"
     ]
    }
   ],
   "source": [
    "print(len(df_final_v1))"
   ]
  },
  {
   "cell_type": "code",
   "execution_count": 94,
   "metadata": {},
   "outputs": [],
   "source": [
    "# Formatear el resultado como texto\n",
    "\n",
    "result = df_final_v1.groupby('posted').apply(\n",
    "    lambda x: f\"Puesto 1: {x.iloc[0]['app_name']}, Puesto 2: {x.iloc[1]['app_name']}, Puesto 3: {x.iloc[2]['app_name']}, para el año {x.iloc[0]['posted']}\"\n",
    ").reset_index(name='Top 3 Games')\n",
    "\n",
    "# Convertir a DataFrame\n",
    "\n",
    "df_final_v2 = pd.DataFrame(result)\n"
   ]
  },
  {
   "cell_type": "code",
   "execution_count": 95,
   "metadata": {},
   "outputs": [
    {
     "data": {
      "text/html": [
       "<div>\n",
       "<style scoped>\n",
       "    .dataframe tbody tr th:only-of-type {\n",
       "        vertical-align: middle;\n",
       "    }\n",
       "\n",
       "    .dataframe tbody tr th {\n",
       "        vertical-align: top;\n",
       "    }\n",
       "\n",
       "    .dataframe thead th {\n",
       "        text-align: right;\n",
       "    }\n",
       "</style>\n",
       "<table border=\"1\" class=\"dataframe\">\n",
       "  <thead>\n",
       "    <tr style=\"text-align: right;\">\n",
       "      <th></th>\n",
       "      <th>posted</th>\n",
       "      <th>Top 3 Games</th>\n",
       "    </tr>\n",
       "  </thead>\n",
       "  <tbody>\n",
       "    <tr>\n",
       "      <th>0</th>\n",
       "      <td>2010</td>\n",
       "      <td>Puesto 1: Team Fortress 2, Puesto 2: Killing F...</td>\n",
       "    </tr>\n",
       "    <tr>\n",
       "      <th>1</th>\n",
       "      <td>2011</td>\n",
       "      <td>Puesto 1: Team Fortress 2, Puesto 2: Portal 2,...</td>\n",
       "    </tr>\n",
       "    <tr>\n",
       "      <th>2</th>\n",
       "      <td>2012</td>\n",
       "      <td>Puesto 1: Team Fortress 2, Puesto 2: Terraria,...</td>\n",
       "    </tr>\n",
       "    <tr>\n",
       "      <th>3</th>\n",
       "      <td>2013</td>\n",
       "      <td>Puesto 1: Team Fortress 2, Puesto 2: Garry's M...</td>\n",
       "    </tr>\n",
       "    <tr>\n",
       "      <th>4</th>\n",
       "      <td>2014</td>\n",
       "      <td>Puesto 1: Team Fortress 2, Puesto 2: Garry's M...</td>\n",
       "    </tr>\n",
       "    <tr>\n",
       "      <th>5</th>\n",
       "      <td>2015</td>\n",
       "      <td>Puesto 1: Team Fortress 2, Puesto 2: Garry's M...</td>\n",
       "    </tr>\n",
       "  </tbody>\n",
       "</table>\n",
       "</div>"
      ],
      "text/plain": [
       "   posted                                        Top 3 Games\n",
       "0    2010  Puesto 1: Team Fortress 2, Puesto 2: Killing F...\n",
       "1    2011  Puesto 1: Team Fortress 2, Puesto 2: Portal 2,...\n",
       "2    2012  Puesto 1: Team Fortress 2, Puesto 2: Terraria,...\n",
       "3    2013  Puesto 1: Team Fortress 2, Puesto 2: Garry's M...\n",
       "4    2014  Puesto 1: Team Fortress 2, Puesto 2: Garry's M...\n",
       "5    2015  Puesto 1: Team Fortress 2, Puesto 2: Garry's M..."
      ]
     },
     "execution_count": 95,
     "metadata": {},
     "output_type": "execute_result"
    }
   ],
   "source": [
    "df_final_v2.head(10)"
   ]
  },
  {
   "cell_type": "code",
   "execution_count": 96,
   "metadata": {},
   "outputs": [
    {
     "data": {
      "text/plain": [
       "'Puesto 1: Team Fortress 2, Puesto 2: Killing Floor, Puesto 3: Alien Swarm, para el año 2010'"
      ]
     },
     "execution_count": 96,
     "metadata": {},
     "output_type": "execute_result"
    }
   ],
   "source": [
    "df_final_v2['Top 3 Games'][0]"
   ]
  },
  {
   "cell_type": "code",
   "execution_count": 555,
   "metadata": {},
   "outputs": [],
   "source": [
    "df_final_v2.to_csv('Data\\Endpoints\\Endpoint_3.csv', index=False)"
   ]
  },
  {
   "cell_type": "markdown",
   "metadata": {},
   "source": [
    "# Endpoint 4"
   ]
  },
  {
   "cell_type": "code",
   "execution_count": 97,
   "metadata": {},
   "outputs": [],
   "source": [
    "df_f4_v1 = pd.read_csv('Data\\data_NLPM_2.csv')"
   ]
  },
  {
   "cell_type": "code",
   "execution_count": 98,
   "metadata": {},
   "outputs": [
    {
     "data": {
      "text/html": [
       "<div>\n",
       "<style scoped>\n",
       "    .dataframe tbody tr th:only-of-type {\n",
       "        vertical-align: middle;\n",
       "    }\n",
       "\n",
       "    .dataframe tbody tr th {\n",
       "        vertical-align: top;\n",
       "    }\n",
       "\n",
       "    .dataframe thead th {\n",
       "        text-align: right;\n",
       "    }\n",
       "</style>\n",
       "<table border=\"1\" class=\"dataframe\">\n",
       "  <thead>\n",
       "    <tr style=\"text-align: right;\">\n",
       "      <th></th>\n",
       "      <th>posted</th>\n",
       "      <th>item_id</th>\n",
       "      <th>recommend</th>\n",
       "      <th>user_id</th>\n",
       "      <th>sentiment</th>\n",
       "    </tr>\n",
       "  </thead>\n",
       "  <tbody>\n",
       "    <tr>\n",
       "      <th>0</th>\n",
       "      <td>2011</td>\n",
       "      <td>1250</td>\n",
       "      <td>1</td>\n",
       "      <td>76561197970982479</td>\n",
       "      <td>1.0</td>\n",
       "    </tr>\n",
       "    <tr>\n",
       "      <th>1</th>\n",
       "      <td>2011</td>\n",
       "      <td>22200</td>\n",
       "      <td>1</td>\n",
       "      <td>76561197970982479</td>\n",
       "      <td>1.0</td>\n",
       "    </tr>\n",
       "    <tr>\n",
       "      <th>2</th>\n",
       "      <td>2011</td>\n",
       "      <td>43110</td>\n",
       "      <td>1</td>\n",
       "      <td>76561197970982479</td>\n",
       "      <td>1.0</td>\n",
       "    </tr>\n",
       "    <tr>\n",
       "      <th>3</th>\n",
       "      <td>2014</td>\n",
       "      <td>251610</td>\n",
       "      <td>1</td>\n",
       "      <td>js41637</td>\n",
       "      <td>1.0</td>\n",
       "    </tr>\n",
       "    <tr>\n",
       "      <th>4</th>\n",
       "      <td>2013</td>\n",
       "      <td>227300</td>\n",
       "      <td>1</td>\n",
       "      <td>js41637</td>\n",
       "      <td>-1.0</td>\n",
       "    </tr>\n",
       "  </tbody>\n",
       "</table>\n",
       "</div>"
      ],
      "text/plain": [
       "   posted  item_id  recommend            user_id  sentiment\n",
       "0    2011     1250          1  76561197970982479        1.0\n",
       "1    2011    22200          1  76561197970982479        1.0\n",
       "2    2011    43110          1  76561197970982479        1.0\n",
       "3    2014   251610          1            js41637        1.0\n",
       "4    2013   227300          1            js41637       -1.0"
      ]
     },
     "execution_count": 98,
     "metadata": {},
     "output_type": "execute_result"
    }
   ],
   "source": [
    "df_f4_v1.head()"
   ]
  },
  {
   "cell_type": "code",
   "execution_count": 99,
   "metadata": {},
   "outputs": [],
   "source": [
    "# Lo mismo que en el caso anterior se agrupan por año ('posted') y juego ('item_id'), sumando las columnas 'recommend' y 'sentiment'\n",
    "\n",
    "f4_agrupado = df_f4_v1.groupby(['posted', 'item_id']).agg({'recommend': 'sum', 'sentiment': 'sum'}).reset_index()"
   ]
  },
  {
   "cell_type": "code",
   "execution_count": 100,
   "metadata": {},
   "outputs": [],
   "source": [
    "# Se calcula la suma total de 'recommend' y 'sentiment' para cada juego, pero se ordena y obtiene los tres juegos con menores sumas\n",
    "# cambiando la funcion \"nlargest\" por \"nsmallest\".\n",
    "\n",
    "df_f4_v2 = (\n",
    "    f4_agrupado.groupby('posted')\n",
    "    .apply(lambda x: x.nsmallest(3, columns=['recommend', 'sentiment']))\n",
    "    .reset_index(drop=True)\n",
    ")"
   ]
  },
  {
   "cell_type": "code",
   "execution_count": 101,
   "metadata": {},
   "outputs": [
    {
     "data": {
      "text/html": [
       "<div>\n",
       "<style scoped>\n",
       "    .dataframe tbody tr th:only-of-type {\n",
       "        vertical-align: middle;\n",
       "    }\n",
       "\n",
       "    .dataframe tbody tr th {\n",
       "        vertical-align: top;\n",
       "    }\n",
       "\n",
       "    .dataframe thead th {\n",
       "        text-align: right;\n",
       "    }\n",
       "</style>\n",
       "<table border=\"1\" class=\"dataframe\">\n",
       "  <thead>\n",
       "    <tr style=\"text-align: right;\">\n",
       "      <th></th>\n",
       "      <th>posted</th>\n",
       "      <th>item_id</th>\n",
       "      <th>recommend</th>\n",
       "      <th>sentiment</th>\n",
       "    </tr>\n",
       "  </thead>\n",
       "  <tbody>\n",
       "    <tr>\n",
       "      <th>0</th>\n",
       "      <td>2010</td>\n",
       "      <td>8800</td>\n",
       "      <td>1</td>\n",
       "      <td>-1.0</td>\n",
       "    </tr>\n",
       "    <tr>\n",
       "      <th>1</th>\n",
       "      <td>2010</td>\n",
       "      <td>10500</td>\n",
       "      <td>1</td>\n",
       "      <td>-1.0</td>\n",
       "    </tr>\n",
       "    <tr>\n",
       "      <th>2</th>\n",
       "      <td>2010</td>\n",
       "      <td>15320</td>\n",
       "      <td>1</td>\n",
       "      <td>-1.0</td>\n",
       "    </tr>\n",
       "    <tr>\n",
       "      <th>3</th>\n",
       "      <td>2011</td>\n",
       "      <td>18700</td>\n",
       "      <td>0</td>\n",
       "      <td>-2.0</td>\n",
       "    </tr>\n",
       "    <tr>\n",
       "      <th>4</th>\n",
       "      <td>2011</td>\n",
       "      <td>63940</td>\n",
       "      <td>0</td>\n",
       "      <td>-1.0</td>\n",
       "    </tr>\n",
       "  </tbody>\n",
       "</table>\n",
       "</div>"
      ],
      "text/plain": [
       "   posted  item_id  recommend  sentiment\n",
       "0    2010     8800          1       -1.0\n",
       "1    2010    10500          1       -1.0\n",
       "2    2010    15320          1       -1.0\n",
       "3    2011    18700          0       -2.0\n",
       "4    2011    63940          0       -1.0"
      ]
     },
     "execution_count": 101,
     "metadata": {},
     "output_type": "execute_result"
    }
   ],
   "source": [
    "df_f4_v2.head()"
   ]
  },
  {
   "cell_type": "code",
   "execution_count": 102,
   "metadata": {},
   "outputs": [],
   "source": [
    "df_f4_v3 = df_f4_v2.copy()\n",
    "\n",
    "df_f4_MLM_v1 = pd.read_csv('Data\\data_MLM_1.csv') "
   ]
  },
  {
   "cell_type": "code",
   "execution_count": 106,
   "metadata": {},
   "outputs": [],
   "source": [
    "# Se unen los DataFrames df_f4_MLM_v1 y df_f4_v3 por las columnas id e item_id respectivamente y \n",
    "# se filtran df_f4_MLM_v1 por las filas que coincidan con los valores de item_id en df_f4_v3\n",
    "\n",
    "df_f4_MLM_v1_filtrado = df_f4_MLM_v1[df_f4_MLM_v1['id'].isin(df_f4_v3['item_id'])]"
   ]
  },
  {
   "cell_type": "code",
   "execution_count": 107,
   "metadata": {},
   "outputs": [
    {
     "data": {
      "text/html": [
       "<div>\n",
       "<style scoped>\n",
       "    .dataframe tbody tr th:only-of-type {\n",
       "        vertical-align: middle;\n",
       "    }\n",
       "\n",
       "    .dataframe tbody tr th {\n",
       "        vertical-align: top;\n",
       "    }\n",
       "\n",
       "    .dataframe thead th {\n",
       "        text-align: right;\n",
       "    }\n",
       "</style>\n",
       "<table border=\"1\" class=\"dataframe\">\n",
       "  <thead>\n",
       "    <tr style=\"text-align: right;\">\n",
       "      <th></th>\n",
       "      <th>app_name</th>\n",
       "      <th>id</th>\n",
       "    </tr>\n",
       "  </thead>\n",
       "  <tbody>\n",
       "    <tr>\n",
       "      <th>142</th>\n",
       "      <td>IL-2 Sturmovik: 1946</td>\n",
       "      <td>15320</td>\n",
       "    </tr>\n",
       "    <tr>\n",
       "      <th>250</th>\n",
       "      <td>Port Royale 2</td>\n",
       "      <td>12470</td>\n",
       "    </tr>\n",
       "    <tr>\n",
       "      <th>502</th>\n",
       "      <td>The Kings' Crusade</td>\n",
       "      <td>42920</td>\n",
       "    </tr>\n",
       "    <tr>\n",
       "      <th>722</th>\n",
       "      <td>Men of War: Vietnam</td>\n",
       "      <td>63940</td>\n",
       "    </tr>\n",
       "    <tr>\n",
       "      <th>844</th>\n",
       "      <td>Jagged Alliance - Back in Action</td>\n",
       "      <td>57740</td>\n",
       "    </tr>\n",
       "  </tbody>\n",
       "</table>\n",
       "</div>"
      ],
      "text/plain": [
       "                             app_name     id\n",
       "142              IL-2 Sturmovik: 1946  15320\n",
       "250                     Port Royale 2  12470\n",
       "502                The Kings' Crusade  42920\n",
       "722               Men of War: Vietnam  63940\n",
       "844  Jagged Alliance - Back in Action  57740"
      ]
     },
     "execution_count": 107,
     "metadata": {},
     "output_type": "execute_result"
    }
   ],
   "source": [
    "df_f4_MLM_v1_filtrado.head()"
   ]
  },
  {
   "cell_type": "code",
   "execution_count": 108,
   "metadata": {},
   "outputs": [
    {
     "name": "stdout",
     "output_type": "stream",
     "text": [
      "18\n",
      "12\n"
     ]
    }
   ],
   "source": [
    "print(len(df_f4_v3))\n",
    "print(len(df_f4_MLM_v1_filtrado))"
   ]
  },
  {
   "cell_type": "code",
   "execution_count": 109,
   "metadata": {},
   "outputs": [],
   "source": [
    "# Realizar el merge entre df_f4_v3 y df_f4_MLM_v1_filtrado utilizando item_id y id respectivamente\n",
    "\n",
    "df_final_f4_v1 = pd.merge(df_f4_v3, df_f4_MLM_v1_filtrado, left_on='item_id', right_on='id', how='inner')"
   ]
  },
  {
   "cell_type": "code",
   "execution_count": 110,
   "metadata": {},
   "outputs": [
    {
     "data": {
      "text/html": [
       "<div>\n",
       "<style scoped>\n",
       "    .dataframe tbody tr th:only-of-type {\n",
       "        vertical-align: middle;\n",
       "    }\n",
       "\n",
       "    .dataframe tbody tr th {\n",
       "        vertical-align: top;\n",
       "    }\n",
       "\n",
       "    .dataframe thead th {\n",
       "        text-align: right;\n",
       "    }\n",
       "</style>\n",
       "<table border=\"1\" class=\"dataframe\">\n",
       "  <thead>\n",
       "    <tr style=\"text-align: right;\">\n",
       "      <th></th>\n",
       "      <th>posted</th>\n",
       "      <th>item_id</th>\n",
       "      <th>recommend</th>\n",
       "      <th>sentiment</th>\n",
       "      <th>app_name</th>\n",
       "      <th>id</th>\n",
       "    </tr>\n",
       "  </thead>\n",
       "  <tbody>\n",
       "    <tr>\n",
       "      <th>0</th>\n",
       "      <td>2010</td>\n",
       "      <td>8800</td>\n",
       "      <td>1</td>\n",
       "      <td>-1.0</td>\n",
       "      <td>Civilization IV: Beyond the Sword</td>\n",
       "      <td>8800</td>\n",
       "    </tr>\n",
       "    <tr>\n",
       "      <th>1</th>\n",
       "      <td>2010</td>\n",
       "      <td>10500</td>\n",
       "      <td>1</td>\n",
       "      <td>-1.0</td>\n",
       "      <td>Empire: Total War™</td>\n",
       "      <td>10500</td>\n",
       "    </tr>\n",
       "    <tr>\n",
       "      <th>2</th>\n",
       "      <td>2010</td>\n",
       "      <td>15320</td>\n",
       "      <td>1</td>\n",
       "      <td>-1.0</td>\n",
       "      <td>IL-2 Sturmovik: 1946</td>\n",
       "      <td>15320</td>\n",
       "    </tr>\n",
       "    <tr>\n",
       "      <th>3</th>\n",
       "      <td>2011</td>\n",
       "      <td>18700</td>\n",
       "      <td>0</td>\n",
       "      <td>-2.0</td>\n",
       "      <td>And Yet It Moves</td>\n",
       "      <td>18700</td>\n",
       "    </tr>\n",
       "    <tr>\n",
       "      <th>4</th>\n",
       "      <td>2011</td>\n",
       "      <td>63940</td>\n",
       "      <td>0</td>\n",
       "      <td>-1.0</td>\n",
       "      <td>Men of War: Vietnam</td>\n",
       "      <td>63940</td>\n",
       "    </tr>\n",
       "  </tbody>\n",
       "</table>\n",
       "</div>"
      ],
      "text/plain": [
       "   posted  item_id  recommend  sentiment                           app_name  \\\n",
       "0    2010     8800          1       -1.0  Civilization IV: Beyond the Sword   \n",
       "1    2010    10500          1       -1.0                 Empire: Total War™   \n",
       "2    2010    15320          1       -1.0               IL-2 Sturmovik: 1946   \n",
       "3    2011    18700          0       -2.0                   And Yet It Moves   \n",
       "4    2011    63940          0       -1.0                Men of War: Vietnam   \n",
       "\n",
       "      id  \n",
       "0   8800  \n",
       "1  10500  \n",
       "2  15320  \n",
       "3  18700  \n",
       "4  63940  "
      ]
     },
     "execution_count": 110,
     "metadata": {},
     "output_type": "execute_result"
    }
   ],
   "source": [
    "df_final_f4_v1.head()"
   ]
  },
  {
   "cell_type": "code",
   "execution_count": 111,
   "metadata": {},
   "outputs": [
    {
     "name": "stdout",
     "output_type": "stream",
     "text": [
      "12\n"
     ]
    }
   ],
   "source": [
    "print(len(df_final_f4_v1))"
   ]
  },
  {
   "cell_type": "code",
   "execution_count": 112,
   "metadata": {},
   "outputs": [],
   "source": [
    "df_final_f4_v2 = pd.merge(df_f4_v3, df_final_f4_v1, on='item_id', how='outer')"
   ]
  },
  {
   "cell_type": "code",
   "execution_count": 113,
   "metadata": {},
   "outputs": [
    {
     "name": "stdout",
     "output_type": "stream",
     "text": [
      "18\n"
     ]
    },
    {
     "data": {
      "text/html": [
       "<div>\n",
       "<style scoped>\n",
       "    .dataframe tbody tr th:only-of-type {\n",
       "        vertical-align: middle;\n",
       "    }\n",
       "\n",
       "    .dataframe tbody tr th {\n",
       "        vertical-align: top;\n",
       "    }\n",
       "\n",
       "    .dataframe thead th {\n",
       "        text-align: right;\n",
       "    }\n",
       "</style>\n",
       "<table border=\"1\" class=\"dataframe\">\n",
       "  <thead>\n",
       "    <tr style=\"text-align: right;\">\n",
       "      <th></th>\n",
       "      <th>posted_x</th>\n",
       "      <th>item_id</th>\n",
       "      <th>recommend_x</th>\n",
       "      <th>sentiment_x</th>\n",
       "      <th>posted_y</th>\n",
       "      <th>recommend_y</th>\n",
       "      <th>sentiment_y</th>\n",
       "      <th>app_name</th>\n",
       "      <th>id</th>\n",
       "    </tr>\n",
       "  </thead>\n",
       "  <tbody>\n",
       "    <tr>\n",
       "      <th>0</th>\n",
       "      <td>2010</td>\n",
       "      <td>8800</td>\n",
       "      <td>1</td>\n",
       "      <td>-1.0</td>\n",
       "      <td>2010.0</td>\n",
       "      <td>1.0</td>\n",
       "      <td>-1.0</td>\n",
       "      <td>Civilization IV: Beyond the Sword</td>\n",
       "      <td>8800.0</td>\n",
       "    </tr>\n",
       "    <tr>\n",
       "      <th>1</th>\n",
       "      <td>2010</td>\n",
       "      <td>10500</td>\n",
       "      <td>1</td>\n",
       "      <td>-1.0</td>\n",
       "      <td>2010.0</td>\n",
       "      <td>1.0</td>\n",
       "      <td>-1.0</td>\n",
       "      <td>Empire: Total War™</td>\n",
       "      <td>10500.0</td>\n",
       "    </tr>\n",
       "    <tr>\n",
       "      <th>2</th>\n",
       "      <td>2010</td>\n",
       "      <td>15320</td>\n",
       "      <td>1</td>\n",
       "      <td>-1.0</td>\n",
       "      <td>2010.0</td>\n",
       "      <td>1.0</td>\n",
       "      <td>-1.0</td>\n",
       "      <td>IL-2 Sturmovik: 1946</td>\n",
       "      <td>15320.0</td>\n",
       "    </tr>\n",
       "    <tr>\n",
       "      <th>3</th>\n",
       "      <td>2011</td>\n",
       "      <td>18700</td>\n",
       "      <td>0</td>\n",
       "      <td>-2.0</td>\n",
       "      <td>2011.0</td>\n",
       "      <td>0.0</td>\n",
       "      <td>-2.0</td>\n",
       "      <td>And Yet It Moves</td>\n",
       "      <td>18700.0</td>\n",
       "    </tr>\n",
       "    <tr>\n",
       "      <th>4</th>\n",
       "      <td>2011</td>\n",
       "      <td>63940</td>\n",
       "      <td>0</td>\n",
       "      <td>-1.0</td>\n",
       "      <td>2011.0</td>\n",
       "      <td>0.0</td>\n",
       "      <td>-1.0</td>\n",
       "      <td>Men of War: Vietnam</td>\n",
       "      <td>63940.0</td>\n",
       "    </tr>\n",
       "  </tbody>\n",
       "</table>\n",
       "</div>"
      ],
      "text/plain": [
       "   posted_x  item_id  recommend_x  sentiment_x  posted_y  recommend_y  \\\n",
       "0      2010     8800            1         -1.0    2010.0          1.0   \n",
       "1      2010    10500            1         -1.0    2010.0          1.0   \n",
       "2      2010    15320            1         -1.0    2010.0          1.0   \n",
       "3      2011    18700            0         -2.0    2011.0          0.0   \n",
       "4      2011    63940            0         -1.0    2011.0          0.0   \n",
       "\n",
       "   sentiment_y                           app_name       id  \n",
       "0         -1.0  Civilization IV: Beyond the Sword   8800.0  \n",
       "1         -1.0                 Empire: Total War™  10500.0  \n",
       "2         -1.0               IL-2 Sturmovik: 1946  15320.0  \n",
       "3         -2.0                   And Yet It Moves  18700.0  \n",
       "4         -1.0                Men of War: Vietnam  63940.0  "
      ]
     },
     "execution_count": 113,
     "metadata": {},
     "output_type": "execute_result"
    }
   ],
   "source": [
    "print(len(df_final_f4_v2))\n",
    "df_final_f4_v2.head(5)"
   ]
  },
  {
   "cell_type": "code",
   "execution_count": 114,
   "metadata": {},
   "outputs": [],
   "source": [
    "df_final_f4_v3 = df_final_f4_v2.drop(['recommend_x', 'recommend_y','sentiment_x','sentiment_y','posted_y','id'], axis=1)"
   ]
  },
  {
   "cell_type": "code",
   "execution_count": 115,
   "metadata": {},
   "outputs": [
    {
     "data": {
      "text/plain": [
       "Index(['posted_x', 'item_id', 'app_name'], dtype='object')"
      ]
     },
     "execution_count": 115,
     "metadata": {},
     "output_type": "execute_result"
    }
   ],
   "source": [
    "df_final_f4_v3.columns"
   ]
  },
  {
   "cell_type": "code",
   "execution_count": 116,
   "metadata": {},
   "outputs": [],
   "source": [
    "df_final_f4_v4 = df_final_f4_v3.copy()\n",
    "\n",
    "# Reemplazar los valores nulos en 'app_name' con el string deseado\n",
    "df_final_f4_v4['app_name'] = df_final_f4_v4['app_name'].fillna(\"Steam Greenlight N \" + df_final_f4_v4['item_id'].astype(str))\n"
   ]
  },
  {
   "cell_type": "code",
   "execution_count": 117,
   "metadata": {},
   "outputs": [
    {
     "data": {
      "text/html": [
       "<div>\n",
       "<style scoped>\n",
       "    .dataframe tbody tr th:only-of-type {\n",
       "        vertical-align: middle;\n",
       "    }\n",
       "\n",
       "    .dataframe tbody tr th {\n",
       "        vertical-align: top;\n",
       "    }\n",
       "\n",
       "    .dataframe thead th {\n",
       "        text-align: right;\n",
       "    }\n",
       "</style>\n",
       "<table border=\"1\" class=\"dataframe\">\n",
       "  <thead>\n",
       "    <tr style=\"text-align: right;\">\n",
       "      <th></th>\n",
       "      <th>posted_x</th>\n",
       "      <th>item_id</th>\n",
       "      <th>app_name</th>\n",
       "    </tr>\n",
       "  </thead>\n",
       "  <tbody>\n",
       "    <tr>\n",
       "      <th>0</th>\n",
       "      <td>2010</td>\n",
       "      <td>8800</td>\n",
       "      <td>Civilization IV: Beyond the Sword</td>\n",
       "    </tr>\n",
       "    <tr>\n",
       "      <th>1</th>\n",
       "      <td>2010</td>\n",
       "      <td>10500</td>\n",
       "      <td>Empire: Total War™</td>\n",
       "    </tr>\n",
       "    <tr>\n",
       "      <th>2</th>\n",
       "      <td>2010</td>\n",
       "      <td>15320</td>\n",
       "      <td>IL-2 Sturmovik: 1946</td>\n",
       "    </tr>\n",
       "    <tr>\n",
       "      <th>3</th>\n",
       "      <td>2011</td>\n",
       "      <td>18700</td>\n",
       "      <td>And Yet It Moves</td>\n",
       "    </tr>\n",
       "    <tr>\n",
       "      <th>4</th>\n",
       "      <td>2011</td>\n",
       "      <td>63940</td>\n",
       "      <td>Men of War: Vietnam</td>\n",
       "    </tr>\n",
       "    <tr>\n",
       "      <th>5</th>\n",
       "      <td>2011</td>\n",
       "      <td>24500</td>\n",
       "      <td>Steam Greenlight N 24500</td>\n",
       "    </tr>\n",
       "    <tr>\n",
       "      <th>6</th>\n",
       "      <td>2012</td>\n",
       "      <td>42920</td>\n",
       "      <td>The Kings' Crusade</td>\n",
       "    </tr>\n",
       "    <tr>\n",
       "      <th>7</th>\n",
       "      <td>2012</td>\n",
       "      <td>209100</td>\n",
       "      <td>Resident Evil: Operation Raccoon City</td>\n",
       "    </tr>\n",
       "    <tr>\n",
       "      <th>8</th>\n",
       "      <td>2012</td>\n",
       "      <td>57740</td>\n",
       "      <td>Jagged Alliance - Back in Action</td>\n",
       "    </tr>\n",
       "    <tr>\n",
       "      <th>9</th>\n",
       "      <td>2013</td>\n",
       "      <td>1670</td>\n",
       "      <td>Iron Warriors: T - 72 Tank Command</td>\n",
       "    </tr>\n",
       "    <tr>\n",
       "      <th>10</th>\n",
       "      <td>2013</td>\n",
       "      <td>12470</td>\n",
       "      <td>Port Royale 2</td>\n",
       "    </tr>\n",
       "    <tr>\n",
       "      <th>11</th>\n",
       "      <td>2013</td>\n",
       "      <td>17020</td>\n",
       "      <td>Steam Greenlight N 17020</td>\n",
       "    </tr>\n",
       "    <tr>\n",
       "      <th>12</th>\n",
       "      <td>2014</td>\n",
       "      <td>220050</td>\n",
       "      <td>Steam Greenlight N 220050</td>\n",
       "    </tr>\n",
       "    <tr>\n",
       "      <th>13</th>\n",
       "      <td>2015</td>\n",
       "      <td>220050</td>\n",
       "      <td>Steam Greenlight N 220050</td>\n",
       "    </tr>\n",
       "    <tr>\n",
       "      <th>14</th>\n",
       "      <td>2014</td>\n",
       "      <td>2870</td>\n",
       "      <td>X Rebirth</td>\n",
       "    </tr>\n",
       "    <tr>\n",
       "      <th>15</th>\n",
       "      <td>2014</td>\n",
       "      <td>96300</td>\n",
       "      <td>Steam Greenlight N 96300</td>\n",
       "    </tr>\n",
       "    <tr>\n",
       "      <th>16</th>\n",
       "      <td>2015</td>\n",
       "      <td>331710</td>\n",
       "      <td>Steam Greenlight N 331710</td>\n",
       "    </tr>\n",
       "    <tr>\n",
       "      <th>17</th>\n",
       "      <td>2015</td>\n",
       "      <td>370240</td>\n",
       "      <td>NBA 2K16</td>\n",
       "    </tr>\n",
       "  </tbody>\n",
       "</table>\n",
       "</div>"
      ],
      "text/plain": [
       "    posted_x  item_id                               app_name\n",
       "0       2010     8800      Civilization IV: Beyond the Sword\n",
       "1       2010    10500                     Empire: Total War™\n",
       "2       2010    15320                   IL-2 Sturmovik: 1946\n",
       "3       2011    18700                       And Yet It Moves\n",
       "4       2011    63940                    Men of War: Vietnam\n",
       "5       2011    24500               Steam Greenlight N 24500\n",
       "6       2012    42920                     The Kings' Crusade\n",
       "7       2012   209100  Resident Evil: Operation Raccoon City\n",
       "8       2012    57740       Jagged Alliance - Back in Action\n",
       "9       2013     1670     Iron Warriors: T - 72 Tank Command\n",
       "10      2013    12470                          Port Royale 2\n",
       "11      2013    17020               Steam Greenlight N 17020\n",
       "12      2014   220050              Steam Greenlight N 220050\n",
       "13      2015   220050              Steam Greenlight N 220050\n",
       "14      2014     2870                              X Rebirth\n",
       "15      2014    96300               Steam Greenlight N 96300\n",
       "16      2015   331710              Steam Greenlight N 331710\n",
       "17      2015   370240                               NBA 2K16"
      ]
     },
     "execution_count": 117,
     "metadata": {},
     "output_type": "execute_result"
    }
   ],
   "source": [
    "df_final_f4_v4.head(20)"
   ]
  },
  {
   "cell_type": "code",
   "execution_count": 118,
   "metadata": {},
   "outputs": [],
   "source": [
    "# Formatear el resultado como texto\n",
    "\n",
    "result_v2 = df_final_f4_v4.groupby('posted_x').apply(\n",
    "    lambda x: f\"Puesto 1: {x.iloc[0]['app_name']}, Puesto 2: {x.iloc[1]['app_name']}, Puesto 3: {x.iloc[2]['app_name']}, para el año {x.iloc[0]['posted_x']}\"\n",
    ").reset_index(name='Worst 3 Games')\n",
    "\n",
    "# Convertir a DataFrame\n",
    "\n",
    "df_final_f4_v5 = pd.DataFrame(result_v2)\n"
   ]
  },
  {
   "cell_type": "code",
   "execution_count": 119,
   "metadata": {},
   "outputs": [
    {
     "data": {
      "text/html": [
       "<div>\n",
       "<style scoped>\n",
       "    .dataframe tbody tr th:only-of-type {\n",
       "        vertical-align: middle;\n",
       "    }\n",
       "\n",
       "    .dataframe tbody tr th {\n",
       "        vertical-align: top;\n",
       "    }\n",
       "\n",
       "    .dataframe thead th {\n",
       "        text-align: right;\n",
       "    }\n",
       "</style>\n",
       "<table border=\"1\" class=\"dataframe\">\n",
       "  <thead>\n",
       "    <tr style=\"text-align: right;\">\n",
       "      <th></th>\n",
       "      <th>posted_x</th>\n",
       "      <th>Worst 3 Games</th>\n",
       "    </tr>\n",
       "  </thead>\n",
       "  <tbody>\n",
       "    <tr>\n",
       "      <th>0</th>\n",
       "      <td>2010</td>\n",
       "      <td>Puesto 1: Civilization IV: Beyond the Sword, P...</td>\n",
       "    </tr>\n",
       "    <tr>\n",
       "      <th>1</th>\n",
       "      <td>2011</td>\n",
       "      <td>Puesto 1: And Yet It Moves, Puesto 2: Men of W...</td>\n",
       "    </tr>\n",
       "    <tr>\n",
       "      <th>2</th>\n",
       "      <td>2012</td>\n",
       "      <td>Puesto 1: The Kings' Crusade, Puesto 2: Reside...</td>\n",
       "    </tr>\n",
       "    <tr>\n",
       "      <th>3</th>\n",
       "      <td>2013</td>\n",
       "      <td>Puesto 1: Iron Warriors: T - 72 Tank Command, ...</td>\n",
       "    </tr>\n",
       "    <tr>\n",
       "      <th>4</th>\n",
       "      <td>2014</td>\n",
       "      <td>Puesto 1: Steam Greenlight N 220050, Puesto 2:...</td>\n",
       "    </tr>\n",
       "    <tr>\n",
       "      <th>5</th>\n",
       "      <td>2015</td>\n",
       "      <td>Puesto 1: Steam Greenlight N 220050, Puesto 2:...</td>\n",
       "    </tr>\n",
       "  </tbody>\n",
       "</table>\n",
       "</div>"
      ],
      "text/plain": [
       "   posted_x                                      Worst 3 Games\n",
       "0      2010  Puesto 1: Civilization IV: Beyond the Sword, P...\n",
       "1      2011  Puesto 1: And Yet It Moves, Puesto 2: Men of W...\n",
       "2      2012  Puesto 1: The Kings' Crusade, Puesto 2: Reside...\n",
       "3      2013  Puesto 1: Iron Warriors: T - 72 Tank Command, ...\n",
       "4      2014  Puesto 1: Steam Greenlight N 220050, Puesto 2:...\n",
       "5      2015  Puesto 1: Steam Greenlight N 220050, Puesto 2:..."
      ]
     },
     "execution_count": 119,
     "metadata": {},
     "output_type": "execute_result"
    }
   ],
   "source": [
    "df_final_f4_v5.head(20)"
   ]
  },
  {
   "cell_type": "code",
   "execution_count": 120,
   "metadata": {},
   "outputs": [
    {
     "data": {
      "text/plain": [
       "'Puesto 1: Civilization IV: Beyond the Sword, Puesto 2: Empire: Total War™, Puesto 3: IL-2 Sturmovik: 1946, para el año 2010'"
      ]
     },
     "execution_count": 120,
     "metadata": {},
     "output_type": "execute_result"
    }
   ],
   "source": [
    "df_final_f4_v5['Worst 3 Games'][0]"
   ]
  },
  {
   "cell_type": "code",
   "execution_count": 250,
   "metadata": {},
   "outputs": [],
   "source": [
    "df_final_f4_v5.to_csv('Data\\Endpoints\\Endpoint_4.csv', index=False)"
   ]
  },
  {
   "cell_type": "markdown",
   "metadata": {},
   "source": [
    "# Endpoint 5"
   ]
  },
  {
   "cell_type": "code",
   "execution_count": 121,
   "metadata": {},
   "outputs": [],
   "source": [
    "df_f5_v1 = pd.read_csv('Data\\data_NLPM_2.csv')\n",
    "df_sf5_v1 = pd.read_csv('Data\\data_Steam_2.csv')"
   ]
  },
  {
   "cell_type": "code",
   "execution_count": 122,
   "metadata": {},
   "outputs": [
    {
     "name": "stdout",
     "output_type": "stream",
     "text": [
      "49186\n"
     ]
    },
    {
     "data": {
      "text/html": [
       "<div>\n",
       "<style scoped>\n",
       "    .dataframe tbody tr th:only-of-type {\n",
       "        vertical-align: middle;\n",
       "    }\n",
       "\n",
       "    .dataframe tbody tr th {\n",
       "        vertical-align: top;\n",
       "    }\n",
       "\n",
       "    .dataframe thead th {\n",
       "        text-align: right;\n",
       "    }\n",
       "</style>\n",
       "<table border=\"1\" class=\"dataframe\">\n",
       "  <thead>\n",
       "    <tr style=\"text-align: right;\">\n",
       "      <th></th>\n",
       "      <th>posted</th>\n",
       "      <th>item_id</th>\n",
       "      <th>recommend</th>\n",
       "      <th>user_id</th>\n",
       "      <th>sentiment</th>\n",
       "    </tr>\n",
       "  </thead>\n",
       "  <tbody>\n",
       "    <tr>\n",
       "      <th>0</th>\n",
       "      <td>2011</td>\n",
       "      <td>1250</td>\n",
       "      <td>1</td>\n",
       "      <td>76561197970982479</td>\n",
       "      <td>1.0</td>\n",
       "    </tr>\n",
       "    <tr>\n",
       "      <th>1</th>\n",
       "      <td>2011</td>\n",
       "      <td>22200</td>\n",
       "      <td>1</td>\n",
       "      <td>76561197970982479</td>\n",
       "      <td>1.0</td>\n",
       "    </tr>\n",
       "    <tr>\n",
       "      <th>2</th>\n",
       "      <td>2011</td>\n",
       "      <td>43110</td>\n",
       "      <td>1</td>\n",
       "      <td>76561197970982479</td>\n",
       "      <td>1.0</td>\n",
       "    </tr>\n",
       "    <tr>\n",
       "      <th>3</th>\n",
       "      <td>2014</td>\n",
       "      <td>251610</td>\n",
       "      <td>1</td>\n",
       "      <td>js41637</td>\n",
       "      <td>1.0</td>\n",
       "    </tr>\n",
       "    <tr>\n",
       "      <th>4</th>\n",
       "      <td>2013</td>\n",
       "      <td>227300</td>\n",
       "      <td>1</td>\n",
       "      <td>js41637</td>\n",
       "      <td>-1.0</td>\n",
       "    </tr>\n",
       "  </tbody>\n",
       "</table>\n",
       "</div>"
      ],
      "text/plain": [
       "   posted  item_id  recommend            user_id  sentiment\n",
       "0    2011     1250          1  76561197970982479        1.0\n",
       "1    2011    22200          1  76561197970982479        1.0\n",
       "2    2011    43110          1  76561197970982479        1.0\n",
       "3    2014   251610          1            js41637        1.0\n",
       "4    2013   227300          1            js41637       -1.0"
      ]
     },
     "execution_count": 122,
     "metadata": {},
     "output_type": "execute_result"
    }
   ],
   "source": [
    "print(len(df_f5_v1))\n",
    "df_f5_v1.head()"
   ]
  },
  {
   "cell_type": "code",
   "execution_count": 123,
   "metadata": {},
   "outputs": [
    {
     "name": "stdout",
     "output_type": "stream",
     "text": [
      "27656\n"
     ]
    },
    {
     "data": {
      "text/html": [
       "<div>\n",
       "<style scoped>\n",
       "    .dataframe tbody tr th:only-of-type {\n",
       "        vertical-align: middle;\n",
       "    }\n",
       "\n",
       "    .dataframe tbody tr th {\n",
       "        vertical-align: top;\n",
       "    }\n",
       "\n",
       "    .dataframe thead th {\n",
       "        text-align: right;\n",
       "    }\n",
       "</style>\n",
       "<table border=\"1\" class=\"dataframe\">\n",
       "  <thead>\n",
       "    <tr style=\"text-align: right;\">\n",
       "      <th></th>\n",
       "      <th>release_date</th>\n",
       "      <th>price</th>\n",
       "      <th>id</th>\n",
       "      <th>developer</th>\n",
       "    </tr>\n",
       "  </thead>\n",
       "  <tbody>\n",
       "    <tr>\n",
       "      <th>0</th>\n",
       "      <td>2018</td>\n",
       "      <td>4.99</td>\n",
       "      <td>761140</td>\n",
       "      <td>Kotoshiro</td>\n",
       "    </tr>\n",
       "    <tr>\n",
       "      <th>1</th>\n",
       "      <td>2018</td>\n",
       "      <td>0.00</td>\n",
       "      <td>643980</td>\n",
       "      <td>Secret Level SRL</td>\n",
       "    </tr>\n",
       "    <tr>\n",
       "      <th>2</th>\n",
       "      <td>2017</td>\n",
       "      <td>0.00</td>\n",
       "      <td>670290</td>\n",
       "      <td>Poolians.com</td>\n",
       "    </tr>\n",
       "    <tr>\n",
       "      <th>3</th>\n",
       "      <td>2017</td>\n",
       "      <td>0.99</td>\n",
       "      <td>767400</td>\n",
       "      <td>彼岸领域</td>\n",
       "    </tr>\n",
       "    <tr>\n",
       "      <th>4</th>\n",
       "      <td>2018</td>\n",
       "      <td>3.99</td>\n",
       "      <td>772540</td>\n",
       "      <td>Trickjump Games Ltd</td>\n",
       "    </tr>\n",
       "  </tbody>\n",
       "</table>\n",
       "</div>"
      ],
      "text/plain": [
       "   release_date  price      id            developer\n",
       "0          2018   4.99  761140            Kotoshiro\n",
       "1          2018   0.00  643980     Secret Level SRL\n",
       "2          2017   0.00  670290         Poolians.com\n",
       "3          2017   0.99  767400                 彼岸领域\n",
       "4          2018   3.99  772540  Trickjump Games Ltd"
      ]
     },
     "execution_count": 123,
     "metadata": {},
     "output_type": "execute_result"
    }
   ],
   "source": [
    "print(len(df_sf5_v1))\n",
    "df_sf5_v1.head()"
   ]
  },
  {
   "cell_type": "code",
   "execution_count": 124,
   "metadata": {},
   "outputs": [],
   "source": [
    "df_f5_v2 = df_f5_v1.drop(['posted', 'recommend','user_id'], axis=1)\n",
    "\n",
    "df_sf5_v2 = df_sf5_v1.drop(['release_date', 'price'], axis=1)"
   ]
  },
  {
   "cell_type": "code",
   "execution_count": 125,
   "metadata": {},
   "outputs": [],
   "source": [
    "df_sf5_v2 = df_sf5_v2.rename(columns={'id': 'item_id'})"
   ]
  },
  {
   "cell_type": "code",
   "execution_count": 126,
   "metadata": {},
   "outputs": [
    {
     "name": "stdout",
     "output_type": "stream",
     "text": [
      "Index(['item_id', 'sentiment'], dtype='object')\n",
      "Index(['item_id', 'developer'], dtype='object')\n"
     ]
    }
   ],
   "source": [
    "print(df_f5_v2.columns)\n",
    "print(df_sf5_v2.columns)"
   ]
  },
  {
   "cell_type": "code",
   "execution_count": 127,
   "metadata": {},
   "outputs": [],
   "source": [
    "df_final_f5 = pd.merge(df_f5_v2, df_sf5_v2, on='item_id', how='inner')"
   ]
  },
  {
   "cell_type": "code",
   "execution_count": 128,
   "metadata": {},
   "outputs": [
    {
     "name": "stdout",
     "output_type": "stream",
     "text": [
      "41059\n",
      "item_id      0\n",
      "sentiment    0\n",
      "developer    0\n",
      "dtype: int64\n"
     ]
    },
    {
     "data": {
      "text/html": [
       "<div>\n",
       "<style scoped>\n",
       "    .dataframe tbody tr th:only-of-type {\n",
       "        vertical-align: middle;\n",
       "    }\n",
       "\n",
       "    .dataframe tbody tr th {\n",
       "        vertical-align: top;\n",
       "    }\n",
       "\n",
       "    .dataframe thead th {\n",
       "        text-align: right;\n",
       "    }\n",
       "</style>\n",
       "<table border=\"1\" class=\"dataframe\">\n",
       "  <thead>\n",
       "    <tr style=\"text-align: right;\">\n",
       "      <th></th>\n",
       "      <th>item_id</th>\n",
       "      <th>sentiment</th>\n",
       "      <th>developer</th>\n",
       "    </tr>\n",
       "  </thead>\n",
       "  <tbody>\n",
       "    <tr>\n",
       "      <th>0</th>\n",
       "      <td>1250</td>\n",
       "      <td>1.0</td>\n",
       "      <td>Tripwire Interactive</td>\n",
       "    </tr>\n",
       "    <tr>\n",
       "      <th>1</th>\n",
       "      <td>1250</td>\n",
       "      <td>1.0</td>\n",
       "      <td>Tripwire Interactive</td>\n",
       "    </tr>\n",
       "    <tr>\n",
       "      <th>2</th>\n",
       "      <td>1250</td>\n",
       "      <td>1.0</td>\n",
       "      <td>Tripwire Interactive</td>\n",
       "    </tr>\n",
       "    <tr>\n",
       "      <th>3</th>\n",
       "      <td>1250</td>\n",
       "      <td>0.0</td>\n",
       "      <td>Tripwire Interactive</td>\n",
       "    </tr>\n",
       "    <tr>\n",
       "      <th>4</th>\n",
       "      <td>1250</td>\n",
       "      <td>0.0</td>\n",
       "      <td>Tripwire Interactive</td>\n",
       "    </tr>\n",
       "  </tbody>\n",
       "</table>\n",
       "</div>"
      ],
      "text/plain": [
       "   item_id  sentiment             developer\n",
       "0     1250        1.0  Tripwire Interactive\n",
       "1     1250        1.0  Tripwire Interactive\n",
       "2     1250        1.0  Tripwire Interactive\n",
       "3     1250        0.0  Tripwire Interactive\n",
       "4     1250        0.0  Tripwire Interactive"
      ]
     },
     "execution_count": 128,
     "metadata": {},
     "output_type": "execute_result"
    }
   ],
   "source": [
    "print(len(df_final_f5))\n",
    "print(df_final_f5.isnull().sum())\n",
    "df_final_f5.head()"
   ]
  },
  {
   "cell_type": "code",
   "execution_count": 129,
   "metadata": {},
   "outputs": [
    {
     "data": {
      "text/plain": [
       "0        1\n",
       "1        1\n",
       "2        1\n",
       "3        0\n",
       "4        0\n",
       "        ..\n",
       "41054   -1\n",
       "41055    1\n",
       "41056   -1\n",
       "41057    1\n",
       "41058    1\n",
       "Name: sentiment, Length: 41059, dtype: int32"
      ]
     },
     "execution_count": 129,
     "metadata": {},
     "output_type": "execute_result"
    }
   ],
   "source": [
    "df_final_f5 = df_final_f5.drop(['item_id'], axis=1)\n",
    "\n",
    "df_final_f5['sentiment'].astype(int)"
   ]
  },
  {
   "cell_type": "code",
   "execution_count": 130,
   "metadata": {},
   "outputs": [],
   "source": [
    "# Crear una tabla pivote para obtener la suma de 'sentiment' por 'developer'\n",
    "df_final_f5_v2 = df_final_f5.pivot_table(index='developer', columns='sentiment', aggfunc='size', fill_value=0)\n",
    "\n",
    "# Renombrar las columnas\n",
    "df_final_f5_v2.columns = ['Neutrales', 'Positivos', 'Negativos']\n",
    "\n",
    "# Resetear el índice para tener 'developer' como una columna\n",
    "df_final_f5_v2.reset_index(inplace=True)"
   ]
  },
  {
   "cell_type": "code",
   "execution_count": 131,
   "metadata": {},
   "outputs": [
    {
     "name": "stdout",
     "output_type": "stream",
     "text": [
      "1653\n",
      "developer    0\n",
      "Neutrales    0\n",
      "Positivos    0\n",
      "Negativos    0\n",
      "dtype: int64\n"
     ]
    },
    {
     "data": {
      "text/html": [
       "<div>\n",
       "<style scoped>\n",
       "    .dataframe tbody tr th:only-of-type {\n",
       "        vertical-align: middle;\n",
       "    }\n",
       "\n",
       "    .dataframe tbody tr th {\n",
       "        vertical-align: top;\n",
       "    }\n",
       "\n",
       "    .dataframe thead th {\n",
       "        text-align: right;\n",
       "    }\n",
       "</style>\n",
       "<table border=\"1\" class=\"dataframe\">\n",
       "  <thead>\n",
       "    <tr style=\"text-align: right;\">\n",
       "      <th></th>\n",
       "      <th>developer</th>\n",
       "      <th>Neutrales</th>\n",
       "      <th>Positivos</th>\n",
       "      <th>Negativos</th>\n",
       "    </tr>\n",
       "  </thead>\n",
       "  <tbody>\n",
       "    <tr>\n",
       "      <th>0</th>\n",
       "      <td>07th Expansion</td>\n",
       "      <td>1</td>\n",
       "      <td>1</td>\n",
       "      <td>0</td>\n",
       "    </tr>\n",
       "    <tr>\n",
       "      <th>1</th>\n",
       "      <td>10th Art Studio,Adventure Productions</td>\n",
       "      <td>0</td>\n",
       "      <td>1</td>\n",
       "      <td>1</td>\n",
       "    </tr>\n",
       "    <tr>\n",
       "      <th>2</th>\n",
       "      <td>11 bit studios</td>\n",
       "      <td>17</td>\n",
       "      <td>7</td>\n",
       "      <td>22</td>\n",
       "    </tr>\n",
       "    <tr>\n",
       "      <th>3</th>\n",
       "      <td>14° East</td>\n",
       "      <td>1</td>\n",
       "      <td>0</td>\n",
       "      <td>1</td>\n",
       "    </tr>\n",
       "    <tr>\n",
       "      <th>4</th>\n",
       "      <td>17-BIT</td>\n",
       "      <td>1</td>\n",
       "      <td>0</td>\n",
       "      <td>1</td>\n",
       "    </tr>\n",
       "  </tbody>\n",
       "</table>\n",
       "</div>"
      ],
      "text/plain": [
       "                               developer  Neutrales  Positivos  Negativos\n",
       "0                         07th Expansion          1          1          0\n",
       "1  10th Art Studio,Adventure Productions          0          1          1\n",
       "2                         11 bit studios         17          7         22\n",
       "3                               14° East          1          0          1\n",
       "4                                 17-BIT          1          0          1"
      ]
     },
     "execution_count": 131,
     "metadata": {},
     "output_type": "execute_result"
    }
   ],
   "source": [
    "print(len(df_final_f5_v2))\n",
    "print(df_final_f5_v2.isnull().sum())\n",
    "df_final_f5_v2.head()"
   ]
  },
  {
   "cell_type": "code",
   "execution_count": 132,
   "metadata": {},
   "outputs": [],
   "source": [
    "# Formatear el resultado como texto\n",
    "\n",
    "result_f5_v2 = df_final_f5_v2.groupby('developer').apply(\n",
    "    lambda x: f\"{x.iloc[0]['developer']} : Negative = {x.iloc[0]['Negativos']}, Neutral = {x.iloc[0]['Neutrales']}, Positive = {x.iloc[0]['Positivos']}\"\n",
    ").reset_index(name='mensaje')\n",
    "\n",
    "# Convertir a DataFrame\n",
    "\n",
    "df_final_f5_v3 = pd.DataFrame(result_f5_v2)"
   ]
  },
  {
   "cell_type": "code",
   "execution_count": 133,
   "metadata": {},
   "outputs": [
    {
     "name": "stdout",
     "output_type": "stream",
     "text": [
      "1653\n",
      "developer    0\n",
      "mensaje      0\n",
      "dtype: int64\n"
     ]
    },
    {
     "data": {
      "text/html": [
       "<div>\n",
       "<style scoped>\n",
       "    .dataframe tbody tr th:only-of-type {\n",
       "        vertical-align: middle;\n",
       "    }\n",
       "\n",
       "    .dataframe tbody tr th {\n",
       "        vertical-align: top;\n",
       "    }\n",
       "\n",
       "    .dataframe thead th {\n",
       "        text-align: right;\n",
       "    }\n",
       "</style>\n",
       "<table border=\"1\" class=\"dataframe\">\n",
       "  <thead>\n",
       "    <tr style=\"text-align: right;\">\n",
       "      <th></th>\n",
       "      <th>developer</th>\n",
       "      <th>mensaje</th>\n",
       "    </tr>\n",
       "  </thead>\n",
       "  <tbody>\n",
       "    <tr>\n",
       "      <th>0</th>\n",
       "      <td>07th Expansion</td>\n",
       "      <td>07th Expansion : Negative = 0, Neutral = 1, Po...</td>\n",
       "    </tr>\n",
       "    <tr>\n",
       "      <th>1</th>\n",
       "      <td>10th Art Studio,Adventure Productions</td>\n",
       "      <td>10th Art Studio,Adventure Productions : Negati...</td>\n",
       "    </tr>\n",
       "    <tr>\n",
       "      <th>2</th>\n",
       "      <td>11 bit studios</td>\n",
       "      <td>11 bit studios : Negative = 22, Neutral = 17, ...</td>\n",
       "    </tr>\n",
       "    <tr>\n",
       "      <th>3</th>\n",
       "      <td>14° East</td>\n",
       "      <td>14° East : Negative = 1, Neutral = 1, Positive...</td>\n",
       "    </tr>\n",
       "    <tr>\n",
       "      <th>4</th>\n",
       "      <td>17-BIT</td>\n",
       "      <td>17-BIT : Negative = 1, Neutral = 1, Positive = 0</td>\n",
       "    </tr>\n",
       "  </tbody>\n",
       "</table>\n",
       "</div>"
      ],
      "text/plain": [
       "                               developer  \\\n",
       "0                         07th Expansion   \n",
       "1  10th Art Studio,Adventure Productions   \n",
       "2                         11 bit studios   \n",
       "3                               14° East   \n",
       "4                                 17-BIT   \n",
       "\n",
       "                                             mensaje  \n",
       "0  07th Expansion : Negative = 0, Neutral = 1, Po...  \n",
       "1  10th Art Studio,Adventure Productions : Negati...  \n",
       "2  11 bit studios : Negative = 22, Neutral = 17, ...  \n",
       "3  14° East : Negative = 1, Neutral = 1, Positive...  \n",
       "4   17-BIT : Negative = 1, Neutral = 1, Positive = 0  "
      ]
     },
     "execution_count": 133,
     "metadata": {},
     "output_type": "execute_result"
    }
   ],
   "source": [
    "print(len(df_final_f5_v3))\n",
    "print(df_final_f5_v3.isnull().sum())\n",
    "df_final_f5_v3.head()"
   ]
  },
  {
   "cell_type": "code",
   "execution_count": 313,
   "metadata": {},
   "outputs": [],
   "source": [
    "df_final_f5_v3.to_csv('Data\\Endpoints\\Endpoint_5.csv', index=False)"
   ]
  }
 ],
 "metadata": {
  "kernelspec": {
   "display_name": "steam_p1",
   "language": "python",
   "name": "python3"
  },
  "language_info": {
   "codemirror_mode": {
    "name": "ipython",
    "version": 3
   },
   "file_extension": ".py",
   "mimetype": "text/x-python",
   "name": "python",
   "nbconvert_exporter": "python",
   "pygments_lexer": "ipython3",
   "version": "3.11.2"
  }
 },
 "nbformat": 4,
 "nbformat_minor": 2
}
