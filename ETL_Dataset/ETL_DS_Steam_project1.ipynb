{
 "cells": [
  {
   "cell_type": "markdown",
   "metadata": {},
   "source": [
    "### ETL Dataset\n",
    "\n",
    "Se importan las librerias pertinentes, para las tareas de ETL del dataset que consta de 3 archivos JSON, 'steam_games.json.gz', 'user_reviews.jason.gz' y 'users_items.json.gz' en\n",
    "el directorio Datasets"
   ]
  },
  {
   "cell_type": "code",
   "execution_count": 140,
   "metadata": {},
   "outputs": [],
   "source": [
    "# importamos las librerias necesarias\n",
    "\n",
    "import pandas as pd\n",
    "import json\n",
    "import gzip"
   ]
  },
  {
   "cell_type": "code",
   "execution_count": 141,
   "metadata": {},
   "outputs": [],
   "source": [
    "# intente abrir el archivo en modo lectura, leerlo y guardar el contenido en una variable, luego crear un objeto json, volcar la data y crear un dataframe con el objeto json\n",
    "# pero obtuve un error de codificacion en unas lineas, por eso hay que decodificar cada linea por separado   \n",
    " \n",
    "# Lista para guardar los objetos json que contienen las lineas  \n",
    "json_objects = []\n",
    "\n",
    "# Se abre el archivo gzip en modo lectura\n",
    "with gzip.open('Datasets\\steam_games.json.gz', 'rb') as f:\n",
    "    # loop for para decodificar linea por linea\n",
    "    for line in f:\n",
    "        # Se crea y carga el objeto JSON, con la data decodificada\n",
    "        json_obj = json.loads(line.decode('utf-8'))\n",
    "        # Y se agrega el objeto JSON a la lista\n",
    "        json_objects.append(json_obj)\n",
    "\n",
    "# Convertimos la lista de objetos JSON en un dataFrame\n",
    "df_steam_games = pd.DataFrame(json_objects)\n"
   ]
  },
  {
   "cell_type": "markdown",
   "metadata": {},
   "source": [
    "Se realiza un pequeño EDA para verificar los datos"
   ]
  },
  {
   "cell_type": "code",
   "execution_count": 159,
   "metadata": {},
   "outputs": [
    {
     "name": "stdout",
     "output_type": "stream",
     "text": [
      "publisher       80.004982\n",
      "genres          76.045498\n",
      "app_name        73.321433\n",
      "title           75.021794\n",
      "url             73.319773\n",
      "release_date    75.035909\n",
      "tags            73.455104\n",
      "reviews_url     73.321433\n",
      "specs           73.876043\n",
      "price           74.463033\n",
      "early_access    73.319773\n",
      "id              73.321433\n",
      "developer       76.058782\n",
      "dtype: float64\n"
     ]
    }
   ],
   "source": [
    "# Vemos el porcentaje de nulos\n",
    "\n",
    "porc_nulos = (df_steam_games.isnull().sum() / len(df)) * 100\n",
    "print(porc_nulos)"
   ]
  },
  {
   "cell_type": "code",
   "execution_count": 143,
   "metadata": {},
   "outputs": [
    {
     "name": "stdout",
     "output_type": "stream",
     "text": [
      "publisher       object\n",
      "genres          object\n",
      "app_name        object\n",
      "title           object\n",
      "url             object\n",
      "release_date    object\n",
      "tags            object\n",
      "reviews_url     object\n",
      "specs           object\n",
      "price           object\n",
      "early_access    object\n",
      "id              object\n",
      "developer       object\n",
      "dtype: object\n"
     ]
    }
   ],
   "source": [
    "# Vemos el tipo de dato\n",
    "\n",
    "print(df_steam_games.dtypes)"
   ]
  },
  {
   "cell_type": "code",
   "execution_count": 160,
   "metadata": {},
   "outputs": [
    {
     "data": {
      "text/plain": [
       "Index(['publisher', 'genres', 'app_name', 'title', 'url', 'release_date',\n",
       "       'tags', 'reviews_url', 'specs', 'price', 'early_access', 'id',\n",
       "       'developer'],\n",
       "      dtype='object')"
      ]
     },
     "execution_count": 160,
     "metadata": {},
     "output_type": "execute_result"
    }
   ],
   "source": [
    "# Vemos las columnas, su datatype y su importancia para las funciones \n",
    "\n",
    "df_steam_games.columns"
   ]
  },
  {
   "cell_type": "markdown",
   "metadata": {},
   "source": [
    "Con el diccionario que se proveyo se ve las columnas que se van a usar cuales no  "
   ]
  },
  {
   "cell_type": "code",
   "execution_count": null,
   "metadata": {},
   "outputs": [],
   "source": [
    "# al ser tipo 'objeto' lo transformo en strings\n",
    "\n",
    "df_steam_games.astype(str)"
   ]
  },
  {
   "cell_type": "code",
   "execution_count": 145,
   "metadata": {},
   "outputs": [],
   "source": [
    "# para transformar los datos hago una copia por motivos de seguridad\n",
    "\n",
    "df_steam_games_2 = df_steam_games.copy()"
   ]
  },
  {
   "cell_type": "code",
   "execution_count": 147,
   "metadata": {},
   "outputs": [],
   "source": [
    "# eliminar las filas con todos los valores nulos\n",
    "\n",
    "df_steam_games_2 = df_steam_games_2.dropna(subset=df_steam_games_2.columns[:13], how='all')"
   ]
  },
  {
   "cell_type": "code",
   "execution_count": 151,
   "metadata": {},
   "outputs": [
    {
     "name": "stdout",
     "output_type": "stream",
     "text": [
      "Número de filas despues de eliminar filas nulas: 32135\n"
     ]
    }
   ],
   "source": [
    "print(\"Número de filas despues de eliminar filas nulas:\", len(df_steam_games_2))"
   ]
  },
  {
   "cell_type": "code",
   "execution_count": 152,
   "metadata": {},
   "outputs": [
    {
     "name": "stdout",
     "output_type": "stream",
     "text": [
      "publisher       6.685209\n",
      "genres          2.725725\n",
      "app_name        0.001661\n",
      "title           1.702022\n",
      "url             0.000000\n",
      "release_date    1.716136\n",
      "tags            0.135331\n",
      "reviews_url     0.001661\n",
      "specs           0.556270\n",
      "price           1.143260\n",
      "early_access    0.000000\n",
      "id              0.001661\n",
      "developer       2.739010\n",
      "dtype: float64\n"
     ]
    }
   ],
   "source": [
    "# Vemos el porcentaje de nulos de las columnas restantes\n",
    "\n",
    "porc_nulos_2 = (df_steam_games_2.isnull().sum() / len(df)) * 100\n",
    "print(porc_nulos_2)"
   ]
  },
  {
   "cell_type": "code",
   "execution_count": 158,
   "metadata": {},
   "outputs": [
    {
     "data": {
      "text/plain": [
       "Index(['publisher', 'genres', 'app_name', 'title', 'url', 'release_date',\n",
       "       'tags', 'reviews_url', 'specs', 'price', 'early_access', 'id',\n",
       "       'developer'],\n",
       "      dtype='object')"
      ]
     },
     "execution_count": 158,
     "metadata": {},
     "output_type": "execute_result"
    }
   ],
   "source": [
    "df_steam_games_2.columns"
   ]
  }
 ],
 "metadata": {
  "kernelspec": {
   "display_name": "steam_p1",
   "language": "python",
   "name": "python3"
  },
  "language_info": {
   "codemirror_mode": {
    "name": "ipython",
    "version": 3
   },
   "file_extension": ".py",
   "mimetype": "text/x-python",
   "name": "python",
   "nbconvert_exporter": "python",
   "pygments_lexer": "ipython3",
   "version": "3.11.2"
  }
 },
 "nbformat": 4,
 "nbformat_minor": 2
}
