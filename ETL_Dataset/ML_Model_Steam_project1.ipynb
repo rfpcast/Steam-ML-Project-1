{
 "cells": [
  {
   "cell_type": "code",
   "execution_count": 1,
   "metadata": {},
   "outputs": [],
   "source": [
    "import pandas as pd\n",
    "import numpy as np\n",
    "import ast\n",
    "from sklearn.feature_extraction.text import TfidfVectorizer\n",
    "from sklearn.metrics.pairwise import cosine_similarity\n",
    "from sklearn.decomposition import TruncatedSVD"
   ]
  },
  {
   "cell_type": "code",
   "execution_count": 57,
   "metadata": {},
   "outputs": [],
   "source": [
    "df_mlm = pd.read_csv('Data/data_MLM_2.csv')"
   ]
  },
  {
   "cell_type": "code",
   "execution_count": 3,
   "metadata": {},
   "outputs": [
    {
     "data": {
      "text/html": [
       "<div>\n",
       "<style scoped>\n",
       "    .dataframe tbody tr th:only-of-type {\n",
       "        vertical-align: middle;\n",
       "    }\n",
       "\n",
       "    .dataframe tbody tr th {\n",
       "        vertical-align: top;\n",
       "    }\n",
       "\n",
       "    .dataframe thead th {\n",
       "        text-align: right;\n",
       "    }\n",
       "</style>\n",
       "<table border=\"1\" class=\"dataframe\">\n",
       "  <thead>\n",
       "    <tr style=\"text-align: right;\">\n",
       "      <th></th>\n",
       "      <th>genres</th>\n",
       "      <th>app_name</th>\n",
       "      <th>tags</th>\n",
       "      <th>specs</th>\n",
       "      <th>price</th>\n",
       "      <th>early_access</th>\n",
       "      <th>id</th>\n",
       "      <th>developer</th>\n",
       "    </tr>\n",
       "  </thead>\n",
       "  <tbody>\n",
       "    <tr>\n",
       "      <th>0</th>\n",
       "      <td>Action Casual Indie Simulation Strategy</td>\n",
       "      <td>Lost Summoner Kitty</td>\n",
       "      <td>Strategy Action Indie Casual Simulation</td>\n",
       "      <td>Single-player</td>\n",
       "      <td>4.99</td>\n",
       "      <td>False</td>\n",
       "      <td>761140.0</td>\n",
       "      <td>Kotoshiro</td>\n",
       "    </tr>\n",
       "    <tr>\n",
       "      <th>1</th>\n",
       "      <td>Free to Play Indie RPG Strategy</td>\n",
       "      <td>Ironbound</td>\n",
       "      <td>Free to Play Strategy Indie RPG Card Game Trad...</td>\n",
       "      <td>Single-player Multi-player Online Multi-Player...</td>\n",
       "      <td>Free To Play</td>\n",
       "      <td>False</td>\n",
       "      <td>643980.0</td>\n",
       "      <td>Secret Level SRL</td>\n",
       "    </tr>\n",
       "    <tr>\n",
       "      <th>2</th>\n",
       "      <td>Casual Free to Play Indie Simulation Sports</td>\n",
       "      <td>Real Pool 3D - Poolians</td>\n",
       "      <td>Free to Play Simulation Sports Casual Indie Mu...</td>\n",
       "      <td>Single-player Multi-player Online Multi-Player...</td>\n",
       "      <td>Free to Play</td>\n",
       "      <td>False</td>\n",
       "      <td>670290.0</td>\n",
       "      <td>Poolians.com</td>\n",
       "    </tr>\n",
       "    <tr>\n",
       "      <th>3</th>\n",
       "      <td>Action Adventure Casual</td>\n",
       "      <td>弹炸人2222</td>\n",
       "      <td>Action Adventure Casual</td>\n",
       "      <td>Single-player</td>\n",
       "      <td>0.99</td>\n",
       "      <td>False</td>\n",
       "      <td>767400.0</td>\n",
       "      <td>彼岸领域</td>\n",
       "    </tr>\n",
       "    <tr>\n",
       "      <th>4</th>\n",
       "      <td>NaN</td>\n",
       "      <td>Log Challenge</td>\n",
       "      <td>Action Indie Casual Sports</td>\n",
       "      <td>Single-player Full controller support HTC Vive...</td>\n",
       "      <td>2.99</td>\n",
       "      <td>False</td>\n",
       "      <td>773570.0</td>\n",
       "      <td>NaN</td>\n",
       "    </tr>\n",
       "  </tbody>\n",
       "</table>\n",
       "</div>"
      ],
      "text/plain": [
       "                                        genres                 app_name  \\\n",
       "0      Action Casual Indie Simulation Strategy      Lost Summoner Kitty   \n",
       "1              Free to Play Indie RPG Strategy                Ironbound   \n",
       "2  Casual Free to Play Indie Simulation Sports  Real Pool 3D - Poolians   \n",
       "3                      Action Adventure Casual                  弹炸人2222   \n",
       "4                                          NaN            Log Challenge   \n",
       "\n",
       "                                                tags  \\\n",
       "0            Strategy Action Indie Casual Simulation   \n",
       "1  Free to Play Strategy Indie RPG Card Game Trad...   \n",
       "2  Free to Play Simulation Sports Casual Indie Mu...   \n",
       "3                            Action Adventure Casual   \n",
       "4                         Action Indie Casual Sports   \n",
       "\n",
       "                                               specs         price  \\\n",
       "0                                      Single-player          4.99   \n",
       "1  Single-player Multi-player Online Multi-Player...  Free To Play   \n",
       "2  Single-player Multi-player Online Multi-Player...  Free to Play   \n",
       "3                                      Single-player          0.99   \n",
       "4  Single-player Full controller support HTC Vive...          2.99   \n",
       "\n",
       "   early_access        id         developer  \n",
       "0         False  761140.0         Kotoshiro  \n",
       "1         False  643980.0  Secret Level SRL  \n",
       "2         False  670290.0      Poolians.com  \n",
       "3         False  767400.0              彼岸领域  \n",
       "4         False  773570.0               NaN  "
      ]
     },
     "execution_count": 3,
     "metadata": {},
     "output_type": "execute_result"
    }
   ],
   "source": [
    "df_mlm.head()"
   ]
  },
  {
   "cell_type": "code",
   "execution_count": 4,
   "metadata": {},
   "outputs": [],
   "source": [
    "df_mlm_v1 = df_mlm.copy()\n",
    "df_mlm_v2 = df_mlm.copy()"
   ]
  },
  {
   "cell_type": "code",
   "execution_count": 5,
   "metadata": {},
   "outputs": [],
   "source": [
    "df_mlm_v2 = df_mlm_v2.drop(['genres', 'tags', 'specs', 'app_name', 'id', 'developer'], axis=1)\n",
    "df_mlm_v2 = df_mlm_v2.replace(to_replace=np.nan, value=0)"
   ]
  },
  {
   "cell_type": "code",
   "execution_count": 33,
   "metadata": {},
   "outputs": [
    {
     "name": "stdout",
     "output_type": "stream",
     "text": [
      "32135\n",
      "price           0\n",
      "early_access    0\n",
      "dtype: int64\n"
     ]
    },
    {
     "data": {
      "text/html": [
       "<div>\n",
       "<style scoped>\n",
       "    .dataframe tbody tr th:only-of-type {\n",
       "        vertical-align: middle;\n",
       "    }\n",
       "\n",
       "    .dataframe tbody tr th {\n",
       "        vertical-align: top;\n",
       "    }\n",
       "\n",
       "    .dataframe thead th {\n",
       "        text-align: right;\n",
       "    }\n",
       "</style>\n",
       "<table border=\"1\" class=\"dataframe\">\n",
       "  <thead>\n",
       "    <tr style=\"text-align: right;\">\n",
       "      <th></th>\n",
       "      <th>price</th>\n",
       "      <th>early_access</th>\n",
       "    </tr>\n",
       "  </thead>\n",
       "  <tbody>\n",
       "    <tr>\n",
       "      <th>0</th>\n",
       "      <td>4.99</td>\n",
       "      <td>0</td>\n",
       "    </tr>\n",
       "    <tr>\n",
       "      <th>1</th>\n",
       "      <td>0</td>\n",
       "      <td>0</td>\n",
       "    </tr>\n",
       "    <tr>\n",
       "      <th>2</th>\n",
       "      <td>0</td>\n",
       "      <td>0</td>\n",
       "    </tr>\n",
       "    <tr>\n",
       "      <th>3</th>\n",
       "      <td>0.99</td>\n",
       "      <td>0</td>\n",
       "    </tr>\n",
       "    <tr>\n",
       "      <th>4</th>\n",
       "      <td>2.99</td>\n",
       "      <td>0</td>\n",
       "    </tr>\n",
       "  </tbody>\n",
       "</table>\n",
       "</div>"
      ],
      "text/plain": [
       "  price  early_access\n",
       "0  4.99             0\n",
       "1     0             0\n",
       "2     0             0\n",
       "3  0.99             0\n",
       "4  2.99             0"
      ]
     },
     "execution_count": 33,
     "metadata": {},
     "output_type": "execute_result"
    }
   ],
   "source": [
    "print(len(df_mlm_v2))\n",
    "print(df_mlm_v2.isnull().sum())\n",
    "df_mlm_v2.head()"
   ]
  },
  {
   "cell_type": "code",
   "execution_count": 8,
   "metadata": {},
   "outputs": [],
   "source": [
    "df_mlm_v2['price'] = df_mlm_v2['price'].replace(regex=r'[^0-9.]', value='0')\n",
    "df_mlm_v2['price'] = df_mlm_v2['price'].str.replace(r'00+|0\\.0+', '0', regex=True)\n",
    "df_mlm_v2['price'] = df_mlm_v2['price'].replace('', 0)"
   ]
  },
  {
   "cell_type": "code",
   "execution_count": 14,
   "metadata": {},
   "outputs": [
    {
     "data": {
      "text/plain": [
       "0        4.99\n",
       "1        0.00\n",
       "2        0.00\n",
       "3        0.99\n",
       "4        2.99\n",
       "         ... \n",
       "32130    1.99\n",
       "32131    4.99\n",
       "32132    1.99\n",
       "32133    4.99\n",
       "32134    4.99\n",
       "Name: price, Length: 32135, dtype: float64"
      ]
     },
     "execution_count": 14,
     "metadata": {},
     "output_type": "execute_result"
    }
   ],
   "source": [
    "df_mlm_v2['early_access'] = df_mlm_v2['early_access'].astype(int)\n",
    "df_mlm_v2['price'].astype(float)"
   ]
  },
  {
   "cell_type": "code",
   "execution_count": 16,
   "metadata": {},
   "outputs": [],
   "source": [
    "numericos = df_mlm_v2[['price', 'early_access']].values"
   ]
  },
  {
   "cell_type": "code",
   "execution_count": 17,
   "metadata": {},
   "outputs": [
    {
     "data": {
      "text/plain": [
       "array([['4.99', 0],\n",
       "       ['0', 0],\n",
       "       ['0', 0],\n",
       "       ...,\n",
       "       ['1.99', 0],\n",
       "       ['4.99', 0],\n",
       "       ['4.99', 1]], dtype=object)"
      ]
     },
     "execution_count": 17,
     "metadata": {},
     "output_type": "execute_result"
    }
   ],
   "source": [
    "numericos"
   ]
  },
  {
   "cell_type": "markdown",
   "metadata": {},
   "source": [
    "-------------------------------------------------"
   ]
  },
  {
   "cell_type": "code",
   "execution_count": 19,
   "metadata": {},
   "outputs": [
    {
     "name": "stdout",
     "output_type": "stream",
     "text": [
      "32135\n",
      "genres          3283\n",
      "app_name           2\n",
      "tags             163\n",
      "specs            670\n",
      "price           1377\n",
      "early_access       0\n",
      "id                 2\n",
      "developer       3299\n",
      "dtype: int64\n"
     ]
    }
   ],
   "source": [
    "print(len(df_mlm_v1))\n",
    "print(df_mlm_v1.isnull().sum())"
   ]
  },
  {
   "cell_type": "code",
   "execution_count": 20,
   "metadata": {},
   "outputs": [
    {
     "data": {
      "text/html": [
       "<div>\n",
       "<style scoped>\n",
       "    .dataframe tbody tr th:only-of-type {\n",
       "        vertical-align: middle;\n",
       "    }\n",
       "\n",
       "    .dataframe tbody tr th {\n",
       "        vertical-align: top;\n",
       "    }\n",
       "\n",
       "    .dataframe thead th {\n",
       "        text-align: right;\n",
       "    }\n",
       "</style>\n",
       "<table border=\"1\" class=\"dataframe\">\n",
       "  <thead>\n",
       "    <tr style=\"text-align: right;\">\n",
       "      <th></th>\n",
       "      <th>genres</th>\n",
       "      <th>app_name</th>\n",
       "      <th>tags</th>\n",
       "      <th>specs</th>\n",
       "      <th>price</th>\n",
       "      <th>early_access</th>\n",
       "      <th>id</th>\n",
       "      <th>developer</th>\n",
       "    </tr>\n",
       "  </thead>\n",
       "  <tbody>\n",
       "    <tr>\n",
       "      <th>0</th>\n",
       "      <td>Action Casual Indie Simulation Strategy</td>\n",
       "      <td>Lost Summoner Kitty</td>\n",
       "      <td>Strategy Action Indie Casual Simulation</td>\n",
       "      <td>Single-player</td>\n",
       "      <td>4.99</td>\n",
       "      <td>False</td>\n",
       "      <td>761140.0</td>\n",
       "      <td>Kotoshiro</td>\n",
       "    </tr>\n",
       "    <tr>\n",
       "      <th>1</th>\n",
       "      <td>Free to Play Indie RPG Strategy</td>\n",
       "      <td>Ironbound</td>\n",
       "      <td>Free to Play Strategy Indie RPG Card Game Trad...</td>\n",
       "      <td>Single-player Multi-player Online Multi-Player...</td>\n",
       "      <td>Free To Play</td>\n",
       "      <td>False</td>\n",
       "      <td>643980.0</td>\n",
       "      <td>Secret Level SRL</td>\n",
       "    </tr>\n",
       "    <tr>\n",
       "      <th>2</th>\n",
       "      <td>Casual Free to Play Indie Simulation Sports</td>\n",
       "      <td>Real Pool 3D - Poolians</td>\n",
       "      <td>Free to Play Simulation Sports Casual Indie Mu...</td>\n",
       "      <td>Single-player Multi-player Online Multi-Player...</td>\n",
       "      <td>Free to Play</td>\n",
       "      <td>False</td>\n",
       "      <td>670290.0</td>\n",
       "      <td>Poolians.com</td>\n",
       "    </tr>\n",
       "    <tr>\n",
       "      <th>3</th>\n",
       "      <td>Action Adventure Casual</td>\n",
       "      <td>弹炸人2222</td>\n",
       "      <td>Action Adventure Casual</td>\n",
       "      <td>Single-player</td>\n",
       "      <td>0.99</td>\n",
       "      <td>False</td>\n",
       "      <td>767400.0</td>\n",
       "      <td>彼岸领域</td>\n",
       "    </tr>\n",
       "    <tr>\n",
       "      <th>4</th>\n",
       "      <td>No data</td>\n",
       "      <td>Log Challenge</td>\n",
       "      <td>Action Indie Casual Sports</td>\n",
       "      <td>Single-player Full controller support HTC Vive...</td>\n",
       "      <td>2.99</td>\n",
       "      <td>False</td>\n",
       "      <td>773570.0</td>\n",
       "      <td>No data</td>\n",
       "    </tr>\n",
       "    <tr>\n",
       "      <th>...</th>\n",
       "      <td>...</td>\n",
       "      <td>...</td>\n",
       "      <td>...</td>\n",
       "      <td>...</td>\n",
       "      <td>...</td>\n",
       "      <td>...</td>\n",
       "      <td>...</td>\n",
       "      <td>...</td>\n",
       "    </tr>\n",
       "    <tr>\n",
       "      <th>32130</th>\n",
       "      <td>Casual Indie Simulation Strategy</td>\n",
       "      <td>Colony On Mars</td>\n",
       "      <td>Strategy Indie Casual Simulation</td>\n",
       "      <td>Single-player Steam Achievements</td>\n",
       "      <td>1.99</td>\n",
       "      <td>False</td>\n",
       "      <td>773640.0</td>\n",
       "      <td>Nikita \"Ghost_RUS\"</td>\n",
       "    </tr>\n",
       "    <tr>\n",
       "      <th>32131</th>\n",
       "      <td>Casual Indie Strategy</td>\n",
       "      <td>LOGistICAL: South Africa</td>\n",
       "      <td>Strategy Indie Casual</td>\n",
       "      <td>Single-player Steam Achievements Steam Cloud S...</td>\n",
       "      <td>4.99</td>\n",
       "      <td>False</td>\n",
       "      <td>733530.0</td>\n",
       "      <td>Sacada</td>\n",
       "    </tr>\n",
       "    <tr>\n",
       "      <th>32132</th>\n",
       "      <td>Indie Racing Simulation</td>\n",
       "      <td>Russian Roads</td>\n",
       "      <td>Indie Simulation Racing</td>\n",
       "      <td>Single-player Steam Achievements Steam Trading...</td>\n",
       "      <td>1.99</td>\n",
       "      <td>False</td>\n",
       "      <td>610660.0</td>\n",
       "      <td>Laush Dmitriy Sergeevich</td>\n",
       "    </tr>\n",
       "    <tr>\n",
       "      <th>32133</th>\n",
       "      <td>Casual Indie</td>\n",
       "      <td>EXIT 2 - Directions</td>\n",
       "      <td>Indie Casual Puzzle Singleplayer Atmospheric R...</td>\n",
       "      <td>Single-player Steam Achievements Steam Cloud</td>\n",
       "      <td>4.99</td>\n",
       "      <td>False</td>\n",
       "      <td>658870.0</td>\n",
       "      <td>xropi,stev3ns</td>\n",
       "    </tr>\n",
       "    <tr>\n",
       "      <th>32134</th>\n",
       "      <td>No data</td>\n",
       "      <td>Maze Run VR</td>\n",
       "      <td>Early Access Adventure Indie Action Simulation VR</td>\n",
       "      <td>Single-player Stats Steam Leaderboards HTC Viv...</td>\n",
       "      <td>4.99</td>\n",
       "      <td>True</td>\n",
       "      <td>681550.0</td>\n",
       "      <td>No data</td>\n",
       "    </tr>\n",
       "  </tbody>\n",
       "</table>\n",
       "<p>32135 rows × 8 columns</p>\n",
       "</div>"
      ],
      "text/plain": [
       "                                            genres                  app_name  \\\n",
       "0          Action Casual Indie Simulation Strategy       Lost Summoner Kitty   \n",
       "1                  Free to Play Indie RPG Strategy                 Ironbound   \n",
       "2      Casual Free to Play Indie Simulation Sports   Real Pool 3D - Poolians   \n",
       "3                          Action Adventure Casual                   弹炸人2222   \n",
       "4                                          No data             Log Challenge   \n",
       "...                                            ...                       ...   \n",
       "32130             Casual Indie Simulation Strategy            Colony On Mars   \n",
       "32131                        Casual Indie Strategy  LOGistICAL: South Africa   \n",
       "32132                      Indie Racing Simulation             Russian Roads   \n",
       "32133                                 Casual Indie       EXIT 2 - Directions   \n",
       "32134                                      No data               Maze Run VR   \n",
       "\n",
       "                                                    tags  \\\n",
       "0                Strategy Action Indie Casual Simulation   \n",
       "1      Free to Play Strategy Indie RPG Card Game Trad...   \n",
       "2      Free to Play Simulation Sports Casual Indie Mu...   \n",
       "3                                Action Adventure Casual   \n",
       "4                             Action Indie Casual Sports   \n",
       "...                                                  ...   \n",
       "32130                   Strategy Indie Casual Simulation   \n",
       "32131                              Strategy Indie Casual   \n",
       "32132                            Indie Simulation Racing   \n",
       "32133  Indie Casual Puzzle Singleplayer Atmospheric R...   \n",
       "32134  Early Access Adventure Indie Action Simulation VR   \n",
       "\n",
       "                                                   specs         price  \\\n",
       "0                                          Single-player          4.99   \n",
       "1      Single-player Multi-player Online Multi-Player...  Free To Play   \n",
       "2      Single-player Multi-player Online Multi-Player...  Free to Play   \n",
       "3                                          Single-player          0.99   \n",
       "4      Single-player Full controller support HTC Vive...          2.99   \n",
       "...                                                  ...           ...   \n",
       "32130                   Single-player Steam Achievements          1.99   \n",
       "32131  Single-player Steam Achievements Steam Cloud S...          4.99   \n",
       "32132  Single-player Steam Achievements Steam Trading...          1.99   \n",
       "32133       Single-player Steam Achievements Steam Cloud          4.99   \n",
       "32134  Single-player Stats Steam Leaderboards HTC Viv...          4.99   \n",
       "\n",
       "      early_access        id                 developer  \n",
       "0            False  761140.0                 Kotoshiro  \n",
       "1            False  643980.0          Secret Level SRL  \n",
       "2            False  670290.0              Poolians.com  \n",
       "3            False  767400.0                      彼岸领域  \n",
       "4            False  773570.0                   No data  \n",
       "...            ...       ...                       ...  \n",
       "32130        False  773640.0        Nikita \"Ghost_RUS\"  \n",
       "32131        False  733530.0                    Sacada  \n",
       "32132        False  610660.0  Laush Dmitriy Sergeevich  \n",
       "32133        False  658870.0             xropi,stev3ns  \n",
       "32134         True  681550.0                   No data  \n",
       "\n",
       "[32135 rows x 8 columns]"
      ]
     },
     "execution_count": 20,
     "metadata": {},
     "output_type": "execute_result"
    }
   ],
   "source": [
    "df_mlm_v1 = df_mlm_v1.replace(to_replace=np.nan, value='No data')\n",
    "\n",
    "df_mlm_v1.astype(str)"
   ]
  },
  {
   "cell_type": "code",
   "execution_count": 22,
   "metadata": {},
   "outputs": [
    {
     "name": "stdout",
     "output_type": "stream",
     "text": [
      "32135\n",
      "genres          0\n",
      "app_name        0\n",
      "tags            0\n",
      "specs           0\n",
      "price           0\n",
      "early_access    0\n",
      "id              0\n",
      "developer       0\n",
      "dtype: int64\n"
     ]
    }
   ],
   "source": [
    "print(len(df_mlm_v1))\n",
    "print(df_mlm_v1.isnull().sum())"
   ]
  },
  {
   "cell_type": "code",
   "execution_count": 24,
   "metadata": {},
   "outputs": [],
   "source": [
    "vectorizer_TFIDF = TfidfVectorizer()"
   ]
  },
  {
   "cell_type": "code",
   "execution_count": 25,
   "metadata": {},
   "outputs": [],
   "source": [
    "TFIDF_appname = vectorizer_TFIDF.fit_transform(df_mlm_v1['app_name'])\n",
    "TFIDF_genres = vectorizer_TFIDF.fit_transform(df_mlm_v1['genres'])\n",
    "TFIDF_tags = vectorizer_TFIDF.fit_transform(df_mlm_v1['tags'])\n",
    "TFIDF_specs = vectorizer_TFIDF.fit_transform(df_mlm_v1['specs'])\n",
    "TFIDF_developer = vectorizer_TFIDF.fit_transform(df_mlm_v1['developer'])\n"
   ]
  },
  {
   "cell_type": "code",
   "execution_count": 26,
   "metadata": {},
   "outputs": [],
   "source": [
    "TFIDF_appname = TFIDF_appname.toarray()\n",
    "TFIDF_genres = TFIDF_genres.toarray()\n",
    "TFIDF_tags = TFIDF_tags.toarray()\n",
    "TFIDF_specs = TFIDF_specs.toarray()\n",
    "TFIDF_developer = TFIDF_developer.toarray()"
   ]
  },
  {
   "cell_type": "code",
   "execution_count": 27,
   "metadata": {},
   "outputs": [
    {
     "data": {
      "text/plain": [
       "array([[0., 0., 0., ..., 0., 0., 0.],\n",
       "       [0., 0., 0., ..., 0., 0., 0.],\n",
       "       [0., 0., 0., ..., 0., 0., 0.],\n",
       "       ...,\n",
       "       [0., 0., 0., ..., 0., 0., 0.],\n",
       "       [0., 0., 0., ..., 0., 0., 0.],\n",
       "       [0., 0., 0., ..., 0., 0., 0.]])"
      ]
     },
     "execution_count": 27,
     "metadata": {},
     "output_type": "execute_result"
    }
   ],
   "source": [
    "TFIDF_appname"
   ]
  },
  {
   "cell_type": "code",
   "execution_count": 28,
   "metadata": {},
   "outputs": [],
   "source": [
    "TFIDF_matrix = np.hstack((TFIDF_appname, TFIDF_genres, TFIDF_tags, TFIDF_specs, TFIDF_developer))"
   ]
  },
  {
   "cell_type": "code",
   "execution_count": 29,
   "metadata": {},
   "outputs": [
    {
     "name": "stdout",
     "output_type": "stream",
     "text": [
      "(32135, 31630)\n"
     ]
    },
    {
     "data": {
      "text/plain": [
       "array([[0., 0., 0., ..., 0., 0., 0.],\n",
       "       [0., 0., 0., ..., 0., 0., 0.],\n",
       "       [0., 0., 0., ..., 0., 0., 0.],\n",
       "       ...,\n",
       "       [0., 0., 0., ..., 0., 0., 0.],\n",
       "       [0., 0., 0., ..., 0., 0., 0.],\n",
       "       [0., 0., 0., ..., 0., 0., 0.]])"
      ]
     },
     "execution_count": 29,
     "metadata": {},
     "output_type": "execute_result"
    }
   ],
   "source": [
    "print(TFIDF_matrix.shape)\n",
    "TFIDF_matrix"
   ]
  },
  {
   "cell_type": "code",
   "execution_count": 30,
   "metadata": {},
   "outputs": [],
   "source": [
    "svd = TruncatedSVD(n_components=5, random_state=42)"
   ]
  },
  {
   "cell_type": "code",
   "execution_count": 31,
   "metadata": {},
   "outputs": [],
   "source": [
    "TFIDF_matrix_v2 = svd.fit_transform(TFIDF_matrix)"
   ]
  },
  {
   "cell_type": "code",
   "execution_count": 32,
   "metadata": {},
   "outputs": [
    {
     "name": "stdout",
     "output_type": "stream",
     "text": [
      "(32135, 5)\n"
     ]
    },
    {
     "data": {
      "text/plain": [
       "array([[ 1.20194453, -0.00228764,  0.38532938,  0.25024752,  0.03119349],\n",
       "       [ 0.57728191, -0.05274437, -0.08857326,  0.56936868,  0.03014025],\n",
       "       [ 0.55800765,  0.05092211,  0.34052631,  0.13935168,  0.12776026],\n",
       "       ...,\n",
       "       [ 0.87460309, -0.02683127,  0.43570678, -0.12410849,  0.00902235],\n",
       "       [ 0.95843381, -0.07440055,  0.23099646, -0.21677684, -0.59477257],\n",
       "       [ 0.39952063,  1.74100599, -0.08880865, -0.03539022,  0.03677075]])"
      ]
     },
     "execution_count": 32,
     "metadata": {},
     "output_type": "execute_result"
    }
   ],
   "source": [
    "print(TFIDF_matrix_v2.shape)\n",
    "TFIDF_matrix_v2"
   ]
  },
  {
   "cell_type": "code",
   "execution_count": 34,
   "metadata": {},
   "outputs": [],
   "source": [
    "TFIDF_matrix_v3 = np.hstack((TFIDF_matrix_v2, numericos))"
   ]
  },
  {
   "cell_type": "code",
   "execution_count": 35,
   "metadata": {},
   "outputs": [
    {
     "name": "stdout",
     "output_type": "stream",
     "text": [
      "(32135, 7)\n"
     ]
    },
    {
     "data": {
      "text/plain": [
       "array([[1.2019445290617117, -0.0022876379019705637, 0.38532938268790656,\n",
       "        ..., 0.03119348983439347, '4.99', 0],\n",
       "       [0.5772819076658129, -0.05274436570371994, -0.08857325695185297,\n",
       "        ..., 0.030140248940055864, '0', 0],\n",
       "       [0.5580076498369053, 0.05092210852654091, 0.3405263119926744, ...,\n",
       "        0.12776026032845708, '0', 0],\n",
       "       ...,\n",
       "       [0.8746030923548814, -0.026831265422981813, 0.4357067794078129,\n",
       "        ..., 0.009022351972730026, '1.99', 0],\n",
       "       [0.9584338133484752, -0.0744005515664946, 0.2309964638393589, ...,\n",
       "        -0.5947725671812983, '4.99', 0],\n",
       "       [0.39952063040199715, 1.741005987056971, -0.0888086500698664, ...,\n",
       "        0.03677075260996583, '4.99', 1]], dtype=object)"
      ]
     },
     "execution_count": 35,
     "metadata": {},
     "output_type": "execute_result"
    }
   ],
   "source": [
    "print(TFIDF_matrix_v3.shape)\n",
    "TFIDF_matrix_v3"
   ]
  },
  {
   "cell_type": "code",
   "execution_count": 36,
   "metadata": {},
   "outputs": [],
   "source": [
    "sim_coseno = cosine_similarity(TFIDF_matrix_v3, TFIDF_matrix_v3)"
   ]
  },
  {
   "cell_type": "code",
   "execution_count": 37,
   "metadata": {},
   "outputs": [
    {
     "name": "stdout",
     "output_type": "stream",
     "text": [
      "(32135, 32135)\n"
     ]
    }
   ],
   "source": [
    "print(sim_coseno.shape)"
   ]
  },
  {
   "cell_type": "code",
   "execution_count": 38,
   "metadata": {},
   "outputs": [],
   "source": [
    "indices_sc = np.argsort(-sim_coseno, axis=1)[:, 1:6]"
   ]
  },
  {
   "cell_type": "code",
   "execution_count": 40,
   "metadata": {},
   "outputs": [
    {
     "data": {
      "text/plain": [
       "array([32105, 32114, 32015, 32108, 32104], dtype=int64)"
      ]
     },
     "execution_count": 40,
     "metadata": {},
     "output_type": "execute_result"
    }
   ],
   "source": [
    "indices_sc[32103]"
   ]
  },
  {
   "cell_type": "code",
   "execution_count": 54,
   "metadata": {},
   "outputs": [],
   "source": [
    "np.save('sim_coseno.npy', indices_sc)"
   ]
  }
 ],
 "metadata": {
  "kernelspec": {
   "display_name": "steam_p1",
   "language": "python",
   "name": "python3"
  },
  "language_info": {
   "codemirror_mode": {
    "name": "ipython",
    "version": 3
   },
   "file_extension": ".py",
   "mimetype": "text/x-python",
   "name": "python",
   "nbconvert_exporter": "python",
   "pygments_lexer": "ipython3",
   "version": "3.11.2"
  }
 },
 "nbformat": 4,
 "nbformat_minor": 2
}
